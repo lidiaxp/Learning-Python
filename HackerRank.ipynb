{
 "cells": [
  {
   "cell_type": "code",
   "execution_count": 2,
   "metadata": {
    "collapsed": true
   },
   "outputs": [],
   "source": [
    "import numpy as np"
   ]
  },
  {
   "cell_type": "code",
   "execution_count": 5,
   "metadata": {},
   "outputs": [
    {
     "name": "stdout",
     "output_type": "stream",
     "text": [
      "Tamanho da lista 0\n"
     ]
    }
   ],
   "source": [
    "lista = np.array([])\n",
    "for i in range(int(input(\"Tamanho da lista \"))):\n",
    "    lista = np.append(lista, int(input(\"Digite um número \")))\n",
    "    print (lista)\n",
    "    if i > 0:\n",
    "        for j in range(len(lista) - 1):\n",
    "            if lista[i - j] < lista[i - 1 - j]:\n",
    "                aux = lista[i - j]\n",
    "                lista[i - j] = lista[i - 1 - j]\n",
    "                lista[i - 1 - j] = aux\n",
    "                print(lista)"
   ]
  },
  {
   "cell_type": "code",
   "execution_count": 130,
   "metadata": {},
   "outputs": [
    {
     "name": "stdout",
     "output_type": "stream",
     "text": [
      "10\n",
      "2 3 4 5 6 7 8 9 10 1\n",
      "2 3 4 5 6 7 8 9 10 10 \n",
      "2 3 4 5 6 7 8 9 9 10 \n",
      "2 3 4 5 6 7 8 8 9 10 \n",
      "2 3 4 5 6 7 7 8 9 10 \n",
      "2 3 4 5 6 6 7 8 9 10 \n",
      "2 3 4 5 5 6 7 8 9 10 \n",
      "2 3 4 4 5 6 7 8 9 10 \n",
      "2 3 3 4 5 6 7 8 9 10 \n",
      "2 2 3 4 5 6 7 8 9 10 \n",
      "1 2 3 4 5 6 7 8 9 10 \n"
     ]
    }
   ],
   "source": [
    "n = int(input())\n",
    "a = list(map(int, input().strip().split(' ')))\n",
    "\n",
    "e = a[n - 1]\n",
    "z = 0\n",
    "\n",
    "for i in range(n-2,-1, -1):\n",
    "    result = ''\n",
    "    if z == 0:\n",
    "        if a[i] > e:\n",
    "            a[i + 1] = a[i]\n",
    "        else:\n",
    "            a[i+1] = e\n",
    "            z = 1\n",
    "        for k in range(n):\n",
    "            result += str(a[k])\n",
    "            result += \" \"\n",
    "        print (result)\n",
    "        if i == 0:\n",
    "            if z == 0:\n",
    "                result = ''\n",
    "                a[0] = e\n",
    "                for k in range(n):\n",
    "                    result += str(a[k])\n",
    "                    result += \" \"\n",
    "                print (result)"
   ]
  },
  {
   "cell_type": "code",
   "execution_count": 75,
   "metadata": {},
   "outputs": [
    {
     "name": "stdout",
     "output_type": "stream",
     "text": [
      "1 1\n",
      "1\n",
      "100\n",
      "[1, 2, 3, 4, 5, 6, 7, 8, 9, 10, 11, 12, 13, 14, 15, 16, 17, 18, 19, 20, 21, 22, 23, 24, 25, 26, 27, 28, 29, 30, 31, 32, 33, 34, 35, 36, 37, 38, 39, 40, 41, 42, 43, 44, 45, 46, 47, 48, 49, 50, 51, 52, 53, 54, 55, 56, 57, 58, 59, 60, 61, 62, 63, 64, 65, 66, 67, 68, 69, 70, 71, 72, 73, 74, 75, 76, 77, 78, 79, 80, 81, 82, 83, 84, 85, 86, 87, 88, 89, 90, 91, 92, 93, 94, 95, 96, 97, 98, 99, 100]\n",
      "[1, 2, 4, 5, 10, 20, 25, 50, 100]\n",
      "9\n"
     ]
    }
   ],
   "source": [
    "n, m = input().strip().split(' ')\n",
    "n, m = [int(n), int(m)]\n",
    "a = list(map(int, input().strip().split(' ')))\n",
    "b = list(map(int, input().strip().split(' ')))\n",
    "\n",
    "count = 0\n",
    "l1 = []\n",
    "l2 = []\n",
    "\n",
    "for i in range(max(b)):\n",
    "    x = 0\n",
    "    for valor in a:\n",
    "        if (i+1) % valor == 0:\n",
    "            x += 1\n",
    "            if x == n:\n",
    "                l1.append(i+1)\n",
    "\n",
    "for i in range(max(b)):\n",
    "    x = 0\n",
    "    for valor in b:\n",
    "        if valor % (i+1) == 0:\n",
    "            x += 1\n",
    "            if x == m:\n",
    "                l2.append(i+1)\n",
    "\n",
    "print(l1)\n",
    "print(l2)\n",
    "count = len(set(l2).intersection(list(set(l1))))\n",
    "print(count)"
   ]
  }
 ],
 "metadata": {
  "kernelspec": {
   "display_name": "Python 3",
   "language": "python",
   "name": "python3"
  },
  "language_info": {
   "codemirror_mode": {
    "name": "ipython",
    "version": 3
   },
   "file_extension": ".py",
   "mimetype": "text/x-python",
   "name": "python",
   "nbconvert_exporter": "python",
   "pygments_lexer": "ipython3",
   "version": "3.6.2"
  }
 },
 "nbformat": 4,
 "nbformat_minor": 2
}
