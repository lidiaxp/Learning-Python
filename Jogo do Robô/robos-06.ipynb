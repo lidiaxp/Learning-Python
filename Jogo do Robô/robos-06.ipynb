{
 "cells": [
  {
   "cell_type": "code",
   "execution_count": 1,
   "metadata": {
    "collapsed": true
   },
   "outputs": [],
   "source": [
    "class Point(object):\n",
    "    \n",
    "    def __init__(self, x, y):\n",
    "        self.x = x\n",
    "        self.y = y\n",
    "    \n",
    "    def __str__(self):\n",
    "        return '<%s, %s>' % (self.x, self.y)\n",
    "\n",
    "class Reward(Point):\n",
    "    \n",
    "    def __init__(self, x, y, name):\n",
    "        super(Reward, self).__init__(x, y)\n",
    "        self.name = name\n",
    "    \n",
    "    def __str__(self):\n",
    "        return '<%s, %s>: %s' % (self.x, self.y, self.name)\n",
    "    \n",
    "    def __repr__(self):\n",
    "        return '<Reward> %s' % str(self)\n",
    "\n",
    "class Robot(Point):\n",
    "    \n",
    "    def move_up(self):\n",
    "        if self.y < 10:\n",
    "            self.y = self.y + 1\n",
    "        else:\n",
    "            print('Movimento proibido')\n",
    "    \n",
    "    def move_down(self):\n",
    "        if self.y > 0:\n",
    "            self.y = self.y - 1\n",
    "        else:\n",
    "            print('Movimento proibido')\n",
    "    \n",
    "    def move_left(self):\n",
    "        if self.x > 0:\n",
    "            self.x = self.x - 1\n",
    "        else:\n",
    "            print('Movimento proibido')\n",
    "    \n",
    "    def move_right(self):\n",
    "        if self.x < 10:\n",
    "            self.x = self.x + 1\n",
    "        else:\n",
    "            print('Movimento proibido')"
   ]
  },
  {
   "cell_type": "code",
   "execution_count": 2,
   "metadata": {
    "collapsed": true
   },
   "outputs": [],
   "source": [
    "def check_reward(robot, rewards):\n",
    "    ok = False\n",
    "    for reward in rewards:\n",
    "        if reward.x == robot.x and reward.y == robot.y:\n",
    "            print(\"O robô achou a recompensa: %s\" % reward.name)\n",
    "            ok = True\n",
    "    return ok"
   ]
  },
  {
   "cell_type": "code",
   "execution_count": 8,
   "metadata": {
    "collapsed": true
   },
   "outputs": [],
   "source": [
    "import random\n",
    "r1 = Reward(random.randint(0, 10), random.randint(0, 10), 'moeda')\n",
    "r2 = Reward(random.randint(0, 10), random.randint(0, 10), 'gasolina')\n",
    "r3 = Reward(random.randint(0, 10), random.randint(0, 10), 'arma')\n",
    "r4 = Reward(random.randint(0, 10), random.randint(0, 10), 'moeda')\n",
    "r5 = Reward(random.randint(0, 10), random.randint(0, 10), 'gasolina')\n",
    "r6 = Reward(random.randint(0, 10), random.randint(0, 10), 'arma')\n",
    "r7 = Reward(random.randint(0, 10), random.randint(0, 10), 'moeda')\n",
    "r8 = Reward(random.randint(0, 10), random.randint(0, 10), 'gasolina')\n",
    "r9 = Reward(random.randint(0, 10), random.randint(0, 10), 'arma')\n",
    "rewards = [r1, r2, r3, r4, r5, r6, r7, r8, r9]"
   ]
  },
  {
   "cell_type": "code",
   "execution_count": 9,
   "metadata": {
    "collapsed": true
   },
   "outputs": [],
   "source": [
    "robot = Robot(random.randint(0, 10), random.randint(0, 10))"
   ]
  },
  {
   "cell_type": "code",
   "execution_count": 10,
   "metadata": {
    "collapsed": false
   },
   "outputs": [
    {
     "name": "stdout",
     "output_type": "stream",
     "text": [
      "Digite up, down, left ou right para o movimento: right\n",
      "<6, 10>\n",
      "O robô achou a recompensa: gasolina\n",
      "Digite up, down, left ou right para o movimento: right\n",
      "<7, 10>\n",
      "Digite up, down, left ou right para o movimento: right\n",
      "<8, 10>\n",
      "Digite up, down, left ou right para o movimento: down\n",
      "<8, 9>\n",
      "Digite up, down, left ou right para o movimento: down\n",
      "<8, 8>\n",
      "Digite up, down, left ou right para o movimento: right\n",
      "<9, 8>\n",
      "Digite up, down, left ou right para o movimento: down\n",
      "<9, 7>\n",
      "Digite up, down, left ou right para o movimento: left\n",
      "<8, 7>\n",
      "Digite up, down, left ou right para o movimento: left\n",
      "<7, 7>\n",
      "Digite up, down, left ou right para o movimento: left\n",
      "<6, 7>\n"
     ]
    }
   ],
   "source": [
    "for i in range(10):\n",
    "    moviment = input(\"Digite up, down, left ou right para o movimento: \")\n",
    "    if moviment == 'up':\n",
    "        robot.move_up()\n",
    "    elif moviment == 'down':\n",
    "        robot.move_down()\n",
    "    elif moviment == 'left':\n",
    "        robot.move_left()\n",
    "    elif moviment == 'right':\n",
    "        robot.move_right()\n",
    "    else:\n",
    "        print('Movimento inválido')\n",
    "        continue\n",
    "    print(robot)\n",
    "    check_reward(robot, rewards)"
   ]
  },
  {
   "cell_type": "code",
   "execution_count": 11,
   "metadata": {
    "collapsed": false
   },
   "outputs": [
    {
     "data": {
      "text/plain": [
       "[<Reward> <9, 0>: moeda,\n",
       " <Reward> <4, 5>: gasolina,\n",
       " <Reward> <6, 1>: arma,\n",
       " <Reward> <0, 0>: moeda,\n",
       " <Reward> <6, 10>: gasolina,\n",
       " <Reward> <6, 9>: arma,\n",
       " <Reward> <2, 1>: moeda,\n",
       " <Reward> <4, 4>: gasolina,\n",
       " <Reward> <4, 6>: arma]"
      ]
     },
     "execution_count": 11,
     "metadata": {},
     "output_type": "execute_result"
    }
   ],
   "source": [
    "rewards"
   ]
  },
  {
   "cell_type": "code",
   "execution_count": null,
   "metadata": {
    "collapsed": true
   },
   "outputs": [],
   "source": []
  }
 ],
 "metadata": {
  "kernelspec": {
   "display_name": "Python 3",
   "language": "python",
   "name": "python3"
  },
  "language_info": {
   "codemirror_mode": {
    "name": "ipython",
    "version": 3
   },
   "file_extension": ".py",
   "mimetype": "text/x-python",
   "name": "python",
   "nbconvert_exporter": "python",
   "pygments_lexer": "ipython3",
   "version": "3.5.1"
  }
 },
 "nbformat": 4,
 "nbformat_minor": 1
}
