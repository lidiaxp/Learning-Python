{
 "cells": [
  {
   "cell_type": "code",
   "execution_count": 111,
   "metadata": {
    "collapsed": true
   },
   "outputs": [],
   "source": [
    "%matplotlib inline\n",
    "import matplotlib.pyplot as plt\n",
    "import pandas as pd\n",
    "import seaborn as sns\n",
    "from sklearn.neighbors import KNeighborsRegressor\n",
    "from sklearn.metrics import mean_squared_error\n",
    "from sklearn.neighbors import KNeighborsClassifier"
   ]
  },
  {
   "cell_type": "code",
   "execution_count": 163,
   "metadata": {},
   "outputs": [],
   "source": [
    "train = pd.read_csv('vermelho.csv', delimiter=';')\n",
    "test = pd.read_csv('testevermelho.csv', delimiter=';')"
   ]
  },
  {
   "cell_type": "code",
   "execution_count": 164,
   "metadata": {},
   "outputs": [
    {
     "data": {
      "text/html": [
       "<div>\n",
       "<style>\n",
       "    .dataframe thead tr:only-child th {\n",
       "        text-align: right;\n",
       "    }\n",
       "\n",
       "    .dataframe thead th {\n",
       "        text-align: left;\n",
       "    }\n",
       "\n",
       "    .dataframe tbody tr th {\n",
       "        vertical-align: top;\n",
       "    }\n",
       "</style>\n",
       "<table border=\"1\" class=\"dataframe\">\n",
       "  <thead>\n",
       "    <tr style=\"text-align: right;\">\n",
       "      <th></th>\n",
       "      <th>fixed acidity</th>\n",
       "      <th>volatile acidity</th>\n",
       "      <th>citric acid</th>\n",
       "      <th>residual sugar</th>\n",
       "      <th>chlorides</th>\n",
       "      <th>free sulfur dioxide</th>\n",
       "      <th>total sulfur dioxide</th>\n",
       "      <th>density</th>\n",
       "      <th>pH</th>\n",
       "      <th>sulphates</th>\n",
       "      <th>alcohol</th>\n",
       "      <th>quality</th>\n",
       "    </tr>\n",
       "  </thead>\n",
       "  <tbody>\n",
       "    <tr>\n",
       "      <th>0</th>\n",
       "      <td>7.2</td>\n",
       "      <td>0.34</td>\n",
       "      <td>0.21</td>\n",
       "      <td>2.5</td>\n",
       "      <td>0.075</td>\n",
       "      <td>41.0</td>\n",
       "      <td>68.0</td>\n",
       "      <td>0.99586</td>\n",
       "      <td>3.37</td>\n",
       "      <td>0.54</td>\n",
       "      <td>10.1</td>\n",
       "      <td>6</td>\n",
       "    </tr>\n",
       "    <tr>\n",
       "      <th>1</th>\n",
       "      <td>7.7</td>\n",
       "      <td>0.58</td>\n",
       "      <td>0.01</td>\n",
       "      <td>1.8</td>\n",
       "      <td>0.088</td>\n",
       "      <td>12.0</td>\n",
       "      <td>18.0</td>\n",
       "      <td>0.99568</td>\n",
       "      <td>3.32</td>\n",
       "      <td>0.56</td>\n",
       "      <td>10.5</td>\n",
       "      <td>7</td>\n",
       "    </tr>\n",
       "    <tr>\n",
       "      <th>2</th>\n",
       "      <td>7.1</td>\n",
       "      <td>0.59</td>\n",
       "      <td>0.00</td>\n",
       "      <td>2.1</td>\n",
       "      <td>0.091</td>\n",
       "      <td>9.0</td>\n",
       "      <td>14.0</td>\n",
       "      <td>0.99488</td>\n",
       "      <td>3.42</td>\n",
       "      <td>0.55</td>\n",
       "      <td>11.5</td>\n",
       "      <td>7</td>\n",
       "    </tr>\n",
       "    <tr>\n",
       "      <th>3</th>\n",
       "      <td>7.3</td>\n",
       "      <td>0.55</td>\n",
       "      <td>0.01</td>\n",
       "      <td>1.8</td>\n",
       "      <td>0.093</td>\n",
       "      <td>9.0</td>\n",
       "      <td>15.0</td>\n",
       "      <td>0.99514</td>\n",
       "      <td>3.35</td>\n",
       "      <td>0.58</td>\n",
       "      <td>11.0</td>\n",
       "      <td>7</td>\n",
       "    </tr>\n",
       "    <tr>\n",
       "      <th>4</th>\n",
       "      <td>8.1</td>\n",
       "      <td>0.82</td>\n",
       "      <td>0.00</td>\n",
       "      <td>4.1</td>\n",
       "      <td>0.095</td>\n",
       "      <td>5.0</td>\n",
       "      <td>14.0</td>\n",
       "      <td>0.99854</td>\n",
       "      <td>3.36</td>\n",
       "      <td>0.53</td>\n",
       "      <td>9.6</td>\n",
       "      <td>5</td>\n",
       "    </tr>\n",
       "  </tbody>\n",
       "</table>\n",
       "</div>"
      ],
      "text/plain": [
       "   fixed acidity  volatile acidity  citric acid  residual sugar  chlorides  \\\n",
       "0            7.2              0.34         0.21             2.5      0.075   \n",
       "1            7.7              0.58         0.01             1.8      0.088   \n",
       "2            7.1              0.59         0.00             2.1      0.091   \n",
       "3            7.3              0.55         0.01             1.8      0.093   \n",
       "4            8.1              0.82         0.00             4.1      0.095   \n",
       "\n",
       "   free sulfur dioxide  total sulfur dioxide  density    pH  sulphates  \\\n",
       "0                 41.0                  68.0  0.99586  3.37       0.54   \n",
       "1                 12.0                  18.0  0.99568  3.32       0.56   \n",
       "2                  9.0                  14.0  0.99488  3.42       0.55   \n",
       "3                  9.0                  15.0  0.99514  3.35       0.58   \n",
       "4                  5.0                  14.0  0.99854  3.36       0.53   \n",
       "\n",
       "   alcohol  quality  \n",
       "0     10.1        6  \n",
       "1     10.5        7  \n",
       "2     11.5        7  \n",
       "3     11.0        7  \n",
       "4      9.6        5  "
      ]
     },
     "execution_count": 164,
     "metadata": {},
     "output_type": "execute_result"
    }
   ],
   "source": [
    "test.head()"
   ]
  },
  {
   "cell_type": "code",
   "execution_count": 165,
   "metadata": {},
   "outputs": [
    {
     "data": {
      "text/plain": [
       "array([[  7.20000000e+00,   3.40000000e-01,   2.10000000e-01, ...,\n",
       "          3.37000000e+00,   5.40000000e-01,   1.01000000e+01],\n",
       "       [  7.70000000e+00,   5.80000000e-01,   1.00000000e-02, ...,\n",
       "          3.32000000e+00,   5.60000000e-01,   1.05000000e+01],\n",
       "       [  7.10000000e+00,   5.90000000e-01,   0.00000000e+00, ...,\n",
       "          3.42000000e+00,   5.50000000e-01,   1.15000000e+01],\n",
       "       ..., \n",
       "       [  6.30000000e+00,   5.10000000e-01,   1.30000000e-01, ...,\n",
       "          3.42000000e+00,   7.50000000e-01,   1.10000000e+01],\n",
       "       [  5.90000000e+00,   6.45000000e-01,   1.20000000e-01, ...,\n",
       "          3.57000000e+00,   7.10000000e-01,   1.02000000e+01],\n",
       "       [  6.00000000e+00,   3.10000000e-01,   4.70000000e-01, ...,\n",
       "          3.39000000e+00,   6.60000000e-01,   1.10000000e+01]])"
      ]
     },
     "execution_count": 165,
     "metadata": {},
     "output_type": "execute_result"
    }
   ],
   "source": [
    "cols = ['fixed acidity', 'volatile acidity', 'citric acid', 'residual sugar', 'chlorides',\n",
    "        'free sulfur dioxide', 'total sulfur dioxide', 'density','pH','sulphates','alcohol']\n",
    "cols2 = ['quality']\n",
    "\n",
    "x_train = train.as_matrix(cols)\n",
    "y_train = train.as_matrix(cols2)\n",
    "x_test = test.as_matrix(cols)\n",
    "y_test = test.as_matrix(cols2)\n",
    "\n",
    "x_test"
   ]
  },
  {
   "cell_type": "code",
   "execution_count": 170,
   "metadata": {
    "scrolled": true
   },
   "outputs": [
    {
     "name": "stderr",
     "output_type": "stream",
     "text": [
      "C:\\Users\\lidia\\Anaconda3\\lib\\site-packages\\ipykernel_launcher.py:5: DataConversionWarning: A column-vector y was passed when a 1d array was expected. Please change the shape of y to (n_samples, ), for example using ravel().\n",
      "  \"\"\"\n"
     ]
    },
    {
     "name": "stdout",
     "output_type": "stream",
     "text": [
      "0.660127826942\n",
      "Saída esperada: 7.000000\n",
      "Saída predita: 5.833333\n"
     ]
    },
    {
     "data": {
      "image/png": "[encoded data removed]",
      "text/plain": [
       "<matplotlib.figure.Figure at 0x2a4a055f3c8>"
      ]
     },
     "metadata": {},
     "output_type": "display_data"
    }
   ],
   "source": [
    "value = 100\n",
    "\n",
    "for k in range (60):\n",
    "    knn = KNeighborsClassifier(n_neighbors=k+1, p=2)\n",
    "    knn.fit(x_train, y_train)\n",
    "    outputs = knn.predict(x_test)\n",
    "    if(value > mean_squared_error(y_test, outputs)):\n",
    "        value = mean_squared_error(y_test, outputs)\n",
    "        neig = k+1\n",
    "\n",
    "knn = KNeighborsRegressor(n_neighbors=neig, p=2)\n",
    "knn.fit(x_train, y_train)\n",
    "outputs = knn.predict(x_test)\n",
    "print(mean_squared_error(y_test, outputs))\n",
    "\n",
    "print('Saída esperada: %f' % y_test[8])\n",
    "print('Saída predita: %f' % outputs[8])\n",
    "\n",
    "import matplotlib.pyplot as plt\n",
    "import numpy as np\n",
    "\n",
    "plt.plot(np.linspace(-1, 1, len(y_test)), y_test, label='data', color='black')\n",
    "plt.plot(np.linspace(-1, 1, len(y_test)), outputs, label='prediction', color='red')\n",
    "plt.show()"
   ]
  },
  {
   "cell_type": "code",
   "execution_count": 171,
   "metadata": {},
   "outputs": [
    {
     "name": "stdout",
     "output_type": "stream",
     "text": [
      "Saída esperada: 7.000000\n",
      "Saída predita: 6.000000\n",
      "0.950442477876\n"
     ]
    },
    {
     "data": {
      "image/png": "[encoded data removed]",
      "text/plain": [
       "<matplotlib.figure.Figure at 0x2a4a1e6ecf8>"
      ]
     },
     "metadata": {},
     "output_type": "display_data"
    }
   ],
   "source": [
    "from sklearn import tree\n",
    "\n",
    "features = x_train\n",
    "labels = y_train\n",
    "\n",
    "# o classificador encontra padrões nos dados de treinamento\n",
    "clf = tree.DecisionTreeClassifier() # instância do classificador\n",
    "clf = clf.fit(features, labels) # fit encontra padrões nos dados\n",
    "\n",
    "# iremos utilizar para classificar uma nova fruta\n",
    "outputs = clf.predict(x_test)\n",
    "\n",
    "print('Saída esperada: %f' % y_test[8])\n",
    "print('Saída predita: %f' % outputs[8])\n",
    "print(mean_squared_error(y_test, outputs))\n",
    "\n",
    "import matplotlib.pyplot as plt\n",
    "import numpy as np\n",
    "\n",
    "plt.plot(np.linspace(-1, 1, len(y_test)), y_test, label='data', color='black')\n",
    "plt.plot(np.linspace(-1, 1, len(y_test)), outputs, label='prediction', color='red')\n",
    "plt.show()"
   ]
  },
  {
   "cell_type": "code",
   "execution_count": null,
   "metadata": {
    "collapsed": true
   },
   "outputs": [],
   "source": []
  }
 ],
 "metadata": {
  "kernelspec": {
   "display_name": "Python 3",
   "language": "python",
   "name": "python3"
  },
  "language_info": {
   "codemirror_mode": {
    "name": "ipython",
    "version": 3
   },
   "file_extension": ".py",
   "mimetype": "text/x-python",
   "name": "python",
   "nbconvert_exporter": "python",
   "pygments_lexer": "ipython3",
   "version": "3.6.2"
  }
 },
 "nbformat": 4,
 "nbformat_minor": 2
}
