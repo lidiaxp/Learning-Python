{
 "cells": [
  {
   "cell_type": "code",
   "execution_count": 2,
   "metadata": {},
   "outputs": [
    {
     "data": {
      "text/plain": [
       "array([0.5529412, 0.5529412, 0.5529412], dtype=float32)"
      ]
     },
     "execution_count": 2,
     "metadata": {},
     "output_type": "execute_result"
    }
   ],
   "source": [
    "import numpy as np\n",
    "import matplotlib.pyplot as plt\n",
    "import matplotlib.image as mpimg\n",
    "\n",
    "x0 = 2.83\n",
    "y0 = 0.54\n",
    "\n",
    "ny = 100\n",
    "nx = 200\n",
    "\n",
    "def color(r, g, b):\n",
    "    red = r * 1 / 255\n",
    "    green = g * 1 / 255\n",
    "    blue = b * 1 /255\n",
    "    return red, green, blue\n",
    "\n",
    "img=mpimg.imread('pictures/stinkbug.png')\n",
    "img[100][0]"
   ]
  },
  {
   "cell_type": "code",
   "execution_count": 3,
   "metadata": {},
   "outputs": [],
   "source": [
    "x = 6\n",
    "y = 7.5\n",
    "\n",
    "dx = np.linspace(0, x, nx)\n",
    "dy = np.linspace(0, y, ny)\n",
    "\n",
    "medidas = []\n",
    "\n",
    "for i in range(ny):\n",
    "    medidas.append([])\n",
    "    \n",
    "for i in range(ny):\n",
    "    for j in range(nx):\n",
    "        medidas[i].append(np.sqrt(np.power(dx[j]  - x0, 2) + np.power(dy[i] - y0, 2)) / 1000)"
   ]
  },
  {
   "cell_type": "code",
   "execution_count": 11,
   "metadata": {},
   "outputs": [
    {
     "name": "stdout",
     "output_type": "stream",
     "text": [
      "26.16949123287993\n",
      "80.44087536728986\n",
      "90.0\n",
      "20.0\n"
     ]
    },
    {
     "data": {
      "text/plain": [
       "20000"
      ]
     },
     "execution_count": 11,
     "metadata": {},
     "output_type": "execute_result"
    }
   ],
   "source": [
    "ptdb = 15.5\n",
    "gt = 5\n",
    "gr = 0\n",
    "f = 5200\n",
    "do = 0.000455412\n",
    "prdo = -29.4\n",
    "lf = ptdb - prdo + gt + gr\n",
    "n = 1.7145\n",
    "desviopadrao2 = 4.3757\n",
    "x0 = 2.83\n",
    "y0 = 0.54\n",
    "\n",
    "desvio = 0\n",
    "\n",
    "X = np.random.normal(0, desviopadrao2, len(medidas))\n",
    "\n",
    "maior, menor = 0, 100\n",
    "\n",
    "pl2 = []\n",
    "\n",
    "for i in range(ny):\n",
    "    pl2.append([])\n",
    "    \n",
    "for i in range(ny):\n",
    "    for j in range(nx):\n",
    "        oi = lf + 10 * n  * np.log10(medidas[i][j]/do) + X[i]\n",
    "        if(maior < oi):\n",
    "            maior = oi\n",
    "        if(menor > oi):\n",
    "            menor = oi\n",
    "        pl2[i].append(oi)\n",
    "        \n",
    "print(menor)\n",
    "print(maior)        \n",
    "menor = np.floor(menor / 10) * 10\n",
    "maior = np.ceil(maior / 10) * 10\n",
    "print(maior)\n",
    "print(menor)\n",
    "\n",
    "pl = []\n",
    "\n",
    "for i in range(ny):\n",
    "    for j in range(nx):\n",
    "        pl.append(pl2[i][j])\n",
    "len(pl)"
   ]
  },
  {
   "cell_type": "code",
   "execution_count": 23,
   "metadata": {},
   "outputs": [
    {
     "data": {
      "text/plain": [
       "Text(0.5,1,'ieee802.11ac : Loss : fc = 5.2 GHz')"
      ]
     },
     "execution_count": 23,
     "metadata": {},
     "output_type": "execute_result"
    },
    {
     "data": {
      "image/png": "[encoded data removed]",
      "text/plain": [
       "<matplotlib.figure.Figure at 0x1ecc15ee8d0>"
      ]
     },
     "metadata": {},
     "output_type": "display_data"
    }
   ],
   "source": [
    "plt.imshow(pr, extent=(0,10,0,10), cmap='jet')\n",
    "plt.colorbar()\n",
    "plt.title('ieee802.11ac : Loss : fc = 5.2 GHz')"
   ]
  },
  {
   "cell_type": "code",
   "execution_count": 35,
   "metadata": {},
   "outputs": [
    {
     "name": "stdout",
     "output_type": "stream",
     "text": [
      "-64.94087536728986\n",
      "-10.669491232879931\n",
      "-70.0\n",
      "-10.0\n"
     ]
    }
   ],
   "source": [
    "pr = []\n",
    "\n",
    "for i in range(ny):\n",
    "    pr.append([])\n",
    "    \n",
    "    \n",
    "maior, menor = -100, 0\n",
    "\n",
    "for i in range(ny):\n",
    "    for j in range(nx):\n",
    "        oi = 15.5 - pl2[i][j]\n",
    "        if(maior < oi):\n",
    "            maior = oi\n",
    "        if(menor > oi):\n",
    "            menor = oi\n",
    "        pr[i].append(oi)\n",
    "        \n",
    "print(menor)\n",
    "print(maior)\n",
    "\n",
    "menor = np.floor(menor/10) * 10\n",
    "maior = np.ceil(maior/10) * 10\n",
    "\n",
    "print(menor)\n",
    "print(maior)"
   ]
  },
  {
   "cell_type": "code",
   "execution_count": 36,
   "metadata": {},
   "outputs": [
    {
     "name": "stdout",
     "output_type": "stream",
     "text": [
      "-40.406210555643526\n",
      "-40.406210555643526\n"
     ]
    }
   ],
   "source": [
    "x = 39\n",
    "y = 39\n",
    "\n",
    "print(pr[x][y])\n",
    "print(15.5 - pl2[x][y])"
   ]
  },
  {
   "cell_type": "code",
   "execution_count": null,
   "metadata": {},
   "outputs": [],
   "source": []
  }
 ],
 "metadata": {
  "kernelspec": {
   "display_name": "Python 3",
   "language": "python",
   "name": "python3"
  },
  "language_info": {
   "codemirror_mode": {
    "name": "ipython",
    "version": 3
   },
   "file_extension": ".py",
   "mimetype": "text/x-python",
   "name": "python",
   "nbconvert_exporter": "python",
   "pygments_lexer": "ipython3",
   "version": "3.6.4"
  }
 },
 "nbformat": 4,
 "nbformat_minor": 2
}
