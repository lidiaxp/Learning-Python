{
 "cells": [
  {
   "cell_type": "code",
   "execution_count": 1,
   "metadata": {
    "collapsed": true
   },
   "outputs": [],
   "source": [
    "import matplotlib.pyplot as plt\n",
    "import pandas as pd\n",
    "import numpy as np\n",
    "import math"
   ]
  },
  {
   "cell_type": "code",
   "execution_count": 3,
   "metadata": {},
   "outputs": [
    {
     "data": {
      "text/html": [
       "<div>\n",
       "<style>\n",
       "    .dataframe thead tr:only-child th {\n",
       "        text-align: right;\n",
       "    }\n",
       "\n",
       "    .dataframe thead th {\n",
       "        text-align: left;\n",
       "    }\n",
       "\n",
       "    .dataframe tbody tr th {\n",
       "        vertical-align: top;\n",
       "    }\n",
       "</style>\n",
       "<table border=\"1\" class=\"dataframe\">\n",
       "  <thead>\n",
       "    <tr style=\"text-align: right;\">\n",
       "      <th></th>\n",
       "      <th>Pessoa</th>\n",
       "      <th>Freddy</th>\n",
       "      <th>Bourne</th>\n",
       "      <th>Trek</th>\n",
       "      <th>Exterminador</th>\n",
       "      <th>Norbit</th>\n",
       "      <th>Wars</th>\n",
       "    </tr>\n",
       "    <tr>\n",
       "      <th>Pessoa</th>\n",
       "      <th></th>\n",
       "      <th></th>\n",
       "      <th></th>\n",
       "      <th></th>\n",
       "      <th></th>\n",
       "      <th></th>\n",
       "      <th></th>\n",
       "    </tr>\n",
       "  </thead>\n",
       "  <tbody>\n",
       "    <tr>\n",
       "      <th>Ana</th>\n",
       "      <td>Ana</td>\n",
       "      <td>25.0</td>\n",
       "      <td>35</td>\n",
       "      <td>30.0</td>\n",
       "      <td>35</td>\n",
       "      <td>25.0</td>\n",
       "      <td>30.0</td>\n",
       "    </tr>\n",
       "    <tr>\n",
       "      <th>Marcos</th>\n",
       "      <td>Marcos</td>\n",
       "      <td>30.0</td>\n",
       "      <td>35</td>\n",
       "      <td>15.0</td>\n",
       "      <td>50</td>\n",
       "      <td>35.0</td>\n",
       "      <td>30.0</td>\n",
       "    </tr>\n",
       "    <tr>\n",
       "      <th>Pedro</th>\n",
       "      <td>Pedro</td>\n",
       "      <td>25.0</td>\n",
       "      <td>30</td>\n",
       "      <td>NaN</td>\n",
       "      <td>35</td>\n",
       "      <td>NaN</td>\n",
       "      <td>40.0</td>\n",
       "    </tr>\n",
       "    <tr>\n",
       "      <th>Claudia</th>\n",
       "      <td>Claudia</td>\n",
       "      <td>NaN</td>\n",
       "      <td>35</td>\n",
       "      <td>30.0</td>\n",
       "      <td>40</td>\n",
       "      <td>25.0</td>\n",
       "      <td>45.0</td>\n",
       "    </tr>\n",
       "    <tr>\n",
       "      <th>Adriano</th>\n",
       "      <td>Adriano</td>\n",
       "      <td>30.0</td>\n",
       "      <td>40</td>\n",
       "      <td>20.0</td>\n",
       "      <td>30</td>\n",
       "      <td>20.0</td>\n",
       "      <td>30.0</td>\n",
       "    </tr>\n",
       "    <tr>\n",
       "      <th>Janaina</th>\n",
       "      <td>Janaina</td>\n",
       "      <td>30.0</td>\n",
       "      <td>40</td>\n",
       "      <td>NaN</td>\n",
       "      <td>50</td>\n",
       "      <td>35.0</td>\n",
       "      <td>30.0</td>\n",
       "    </tr>\n",
       "    <tr>\n",
       "      <th>Leonardo</th>\n",
       "      <td>Leonardo</td>\n",
       "      <td>NaN</td>\n",
       "      <td>45</td>\n",
       "      <td>NaN</td>\n",
       "      <td>40</td>\n",
       "      <td>10.0</td>\n",
       "      <td>NaN</td>\n",
       "    </tr>\n",
       "  </tbody>\n",
       "</table>\n",
       "</div>"
      ],
      "text/plain": [
       "            Pessoa  Freddy  Bourne  Trek  Exterminador  Norbit  Wars\n",
       "Pessoa                                                              \n",
       "Ana            Ana    25.0      35  30.0            35    25.0  30.0\n",
       "Marcos      Marcos    30.0      35  15.0            50    35.0  30.0\n",
       "Pedro        Pedro    25.0      30   NaN            35     NaN  40.0\n",
       "Claudia    Claudia     NaN      35  30.0            40    25.0  45.0\n",
       "Adriano    Adriano    30.0      40  20.0            30    20.0  30.0\n",
       "Janaina    Janaina    30.0      40   NaN            50    35.0  30.0\n",
       "Leonardo  Leonardo     NaN      45   NaN            40    10.0   NaN"
      ]
     },
     "execution_count": 3,
     "metadata": {},
     "output_type": "execute_result"
    }
   ],
   "source": [
    "avaliacoes = pd.read_csv('base.csv', delimiter=';')\n",
    "avaliacoes.head()\n",
    "\n",
    "avaliacoes.index = avaliacoes['Pessoa']\n",
    "#del avaliacoes['Pessoa']\n",
    "avaliacoes"
   ]
  },
  {
   "cell_type": "code",
   "execution_count": 4,
   "metadata": {},
   "outputs": [
    {
     "data": {
      "image/png": "[encoded data removed]",
      "text/plain": [
       "<matplotlib.figure.Figure at 0x23cad3de9e8>"
      ]
     },
     "metadata": {},
     "output_type": "display_data"
    }
   ],
   "source": [
    "filme1 = 'Trek'\n",
    "filme2 = 'Exterminador'\n",
    "for n in range(len(avaliacoes)):\n",
    "    if avaliacoes[filme1][n] >= 0 and avaliacoes[filme2][n] >= 0:\n",
    "        plt.text(x = avaliacoes[filme1][n],\n",
    "                y = avaliacoes[filme2][n],\n",
    "                s = avaliacoes['Pessoa'][n])\n",
    "plt.scatter(x = avaliacoes[filme1],\n",
    "            y = avaliacoes[filme2])\n",
    "plt.axis([0,50,0,50])\n",
    "plt.show()"
   ]
  },
  {
   "cell_type": "code",
   "execution_count": 5,
   "metadata": {
    "collapsed": true
   },
   "outputs": [],
   "source": [
    "def dis_euc(f1, f2, p1, p2):\n",
    "    soma = 0\n",
    "    if avaliacoes[f1][p1] >= 0 and avaliacoes[f1][p2] >= 0:\n",
    "        if avaliacoes[f2][p1] >= 0 and avaliacoes[f2][p2] >= 0:\n",
    "            xi = np.array([avaliacoes[f1][p1], avaliacoes[f2][p1]])\n",
    "            yi = np.array([avaliacoes[f1][p2], avaliacoes[f2][p2]])\n",
    "            dim, soma = len(xi), 0\n",
    "            for i in range(dim):\n",
    "                soma += math.pow(xi[i] - yi[i], 2)\n",
    "    return math.sqrt(soma)"
   ]
  },
  {
   "cell_type": "code",
   "execution_count": 6,
   "metadata": {},
   "outputs": [
    {
     "name": "stdout",
     "output_type": "stream",
     "text": [
      "Distancia entre Ana e Ana: 0.000000\n",
      "Distancia entre Ana e Marcos: 21.213203\n",
      "Distancia entre Ana e Pedro: 0.000000\n",
      "Distancia entre Ana e Claudia: 5.000000\n",
      "Distancia entre Ana e Adriano: 11.180340\n",
      "Distancia entre Ana e Janaina: 0.000000\n",
      "Distancia entre Ana e Leonardo: 0.000000\n"
     ]
    }
   ],
   "source": [
    "for nome in avaliacoes['Pessoa']:\n",
    "    print('Distancia entre Ana e %s: %f' % (nome, dis_euc(filme1, filme2, 'Ana', nome)))"
   ]
  },
  {
   "cell_type": "code",
   "execution_count": 46,
   "metadata": {
    "collapsed": true
   },
   "outputs": [],
   "source": [
    "a1 = {'Ana': \n",
    "\t\t{'Freddy': 2.5, \n",
    "\t\t 'Bourne': 3.5,\n",
    "\t\t 'Trek': 3.0, \n",
    "\t\t 'Exterminador': 3.5, \n",
    "\t\t 'Norbit': 2.5, \n",
    "\t\t 'Wars': 3.0},\n",
    "\t \n",
    "\t  'Marcos': \n",
    "\t\t{'Freddy': 3.0, \n",
    "\t\t 'Bourne': 3.5, \n",
    "\t\t 'Trek': 1.5, \n",
    "\t\t 'Exterminador': 5.0, \n",
    "\t\t 'Wars': 3.0, \n",
    "\t\t 'Norbit': 3.5}, \n",
    "\n",
    "\t  'Pedro': \n",
    "\t    {'Freddy': 2.5, \n",
    "\t\t 'Bourne': 3.0,\n",
    "\t\t 'Exterminador': 3.5, \n",
    "\t\t 'Wars': 4.0},\n",
    "\t\t\t \n",
    "\t  'Claudia': \n",
    "\t\t{'Bourne': 3.5, \n",
    "\t\t 'Trek': 3.0,\n",
    "\t\t 'Wars': 4.5, \n",
    "\t\t 'Exterminador': 4.0, \n",
    "\t\t 'Norbit': 2.5},\n",
    "\t\t\t\t \n",
    "\t  'Adriano': \n",
    "\t\t{'Freddy': 3.0, \n",
    "\t\t 'Bourne': 4.0, \n",
    "\t\t 'Trek': 2.0, \n",
    "\t\t 'Exterminador': 3.0, \n",
    "\t\t 'Wars': 3.0,\n",
    "\t\t 'Norbit': 2.0}, \n",
    "\n",
    "\t  'Janaina': \n",
    "\t     {'Freddy': 3.0, \n",
    "\t      'Bourne': 4.0,\n",
    "\t      'Wars': 3.0, \n",
    "\t      'Exterminador': 5.0, \n",
    "\t      'Norbit': 3.5},\n",
    "\t\t\t  \n",
    "\t  'Leonardo': \n",
    "\t    {'Bourne':4.5,\n",
    "             'Norbit':1.0,\n",
    "\t     'Exterminador':4.0}\n",
    "}\n",
    "\n",
    "\n",
    "def euclidiana(base, usuario1, usuario2):\n",
    "    si = {}\n",
    "    for item in base[usuario1]:\n",
    "        if item in base[usuario2]:\n",
    "            si[item] = 1\n",
    "    \n",
    "    if len(si) == 0:\n",
    "        return 0\n",
    "    \n",
    "    soma = sum([math.pow(base[usuario1][item] - base[usuario2][item], 2)\n",
    "                   for item in base[usuario1] if item in base[usuario2]])\n",
    "    \n",
    "    return 1/(1 + math.sqrt(soma))"
   ]
  },
  {
   "cell_type": "code",
   "execution_count": 20,
   "metadata": {},
   "outputs": [
    {
     "data": {
      "text/html": [
       "<div>\n",
       "<style>\n",
       "    .dataframe thead tr:only-child th {\n",
       "        text-align: right;\n",
       "    }\n",
       "\n",
       "    .dataframe thead th {\n",
       "        text-align: left;\n",
       "    }\n",
       "\n",
       "    .dataframe tbody tr th {\n",
       "        vertical-align: top;\n",
       "    }\n",
       "</style>\n",
       "<table border=\"1\" class=\"dataframe\">\n",
       "  <thead>\n",
       "    <tr style=\"text-align: right;\">\n",
       "      <th></th>\n",
       "      <th>Filmes</th>\n",
       "      <th>Ana</th>\n",
       "      <th>Marcos</th>\n",
       "      <th>Pedro</th>\n",
       "      <th>Claudia</th>\n",
       "      <th>Adriano</th>\n",
       "      <th>Janaina</th>\n",
       "      <th>Leonardo</th>\n",
       "    </tr>\n",
       "    <tr>\n",
       "      <th>Filmes</th>\n",
       "      <th></th>\n",
       "      <th></th>\n",
       "      <th></th>\n",
       "      <th></th>\n",
       "      <th></th>\n",
       "      <th></th>\n",
       "      <th></th>\n",
       "      <th></th>\n",
       "    </tr>\n",
       "  </thead>\n",
       "  <tbody>\n",
       "    <tr>\n",
       "      <th>Freddy</th>\n",
       "      <td>Freddy</td>\n",
       "      <td>25</td>\n",
       "      <td>30</td>\n",
       "      <td>25.0</td>\n",
       "      <td>NaN</td>\n",
       "      <td>30</td>\n",
       "      <td>30.0</td>\n",
       "      <td>NaN</td>\n",
       "    </tr>\n",
       "    <tr>\n",
       "      <th>Bourne</th>\n",
       "      <td>Bourne</td>\n",
       "      <td>35</td>\n",
       "      <td>35</td>\n",
       "      <td>30.0</td>\n",
       "      <td>35.0</td>\n",
       "      <td>40</td>\n",
       "      <td>40.0</td>\n",
       "      <td>45.0</td>\n",
       "    </tr>\n",
       "    <tr>\n",
       "      <th>Trek</th>\n",
       "      <td>Trek</td>\n",
       "      <td>30</td>\n",
       "      <td>15</td>\n",
       "      <td>NaN</td>\n",
       "      <td>30.0</td>\n",
       "      <td>20</td>\n",
       "      <td>NaN</td>\n",
       "      <td>NaN</td>\n",
       "    </tr>\n",
       "    <tr>\n",
       "      <th>Exterminador</th>\n",
       "      <td>Exterminador</td>\n",
       "      <td>35</td>\n",
       "      <td>50</td>\n",
       "      <td>35.0</td>\n",
       "      <td>40.0</td>\n",
       "      <td>30</td>\n",
       "      <td>50.0</td>\n",
       "      <td>40.0</td>\n",
       "    </tr>\n",
       "    <tr>\n",
       "      <th>Norbit</th>\n",
       "      <td>Norbit</td>\n",
       "      <td>25</td>\n",
       "      <td>35</td>\n",
       "      <td>NaN</td>\n",
       "      <td>25.0</td>\n",
       "      <td>20</td>\n",
       "      <td>35.0</td>\n",
       "      <td>10.0</td>\n",
       "    </tr>\n",
       "    <tr>\n",
       "      <th>Wars</th>\n",
       "      <td>Wars</td>\n",
       "      <td>30</td>\n",
       "      <td>30</td>\n",
       "      <td>40.0</td>\n",
       "      <td>45.0</td>\n",
       "      <td>30</td>\n",
       "      <td>30.0</td>\n",
       "      <td>NaN</td>\n",
       "    </tr>\n",
       "  </tbody>\n",
       "</table>\n",
       "</div>"
      ],
      "text/plain": [
       "                    Filmes  Ana  Marcos  Pedro  Claudia  Adriano  Janaina  \\\n",
       "Filmes                                                                      \n",
       "Freddy              Freddy   25      30   25.0      NaN       30     30.0   \n",
       "Bourne              Bourne   35      35   30.0     35.0       40     40.0   \n",
       "Trek                  Trek   30      15    NaN     30.0       20      NaN   \n",
       "Exterminador  Exterminador   35      50   35.0     40.0       30     50.0   \n",
       "Norbit              Norbit   25      35    NaN     25.0       20     35.0   \n",
       "Wars                  Wars   30      30   40.0     45.0       30     30.0   \n",
       "\n",
       "              Leonardo  \n",
       "Filmes                  \n",
       "Freddy             NaN  \n",
       "Bourne            45.0  \n",
       "Trek               NaN  \n",
       "Exterminador      40.0  \n",
       "Norbit            10.0  \n",
       "Wars               NaN  "
      ]
     },
     "execution_count": 20,
     "metadata": {},
     "output_type": "execute_result"
    }
   ],
   "source": [
    "read"
   ]
  },
  {
   "cell_type": "code",
   "execution_count": 9,
   "metadata": {},
   "outputs": [
    {
     "name": "stdout",
     "output_type": "stream",
     "text": [
      "{'Ana': {'Freddy': 25.0, 'Bourne': 35, 'Trek': 30.0, 'Exterminador': 35, 'Norbit': 25.0, 'Wars': 30.0}, 'Marcos': {'Freddy': 30.0, 'Bourne': 35, 'Trek': 15.0, 'Exterminador': 50, 'Norbit': 35.0, 'Wars': 30.0}, 'Pedro': {'Freddy': 25.0, 'Bourne': 30, 'Exterminador': 35, 'Wars': 40.0}, 'Claudia': {'Bourne': 35, 'Trek': 30.0, 'Exterminador': 40, 'Norbit': 25.0, 'Wars': 45.0}, 'Adriano': {'Freddy': 30.0, 'Bourne': 40, 'Trek': 20.0, 'Exterminador': 30, 'Norbit': 20.0, 'Wars': 30.0}, 'Janaina': {'Freddy': 30.0, 'Bourne': 40, 'Exterminador': 50, 'Norbit': 35.0, 'Wars': 30.0}, 'Leonardo': {'Bourne': 45, 'Exterminador': 40, 'Norbit': 10.0}}\n",
      "\n",
      "\n",
      "{'Freddy': {'Ana': 25.0, 'Marcos': 30.0, 'Pedro': 25.0, 'Adriano': 30.0, 'Janaina': 30.0}, 'Bourne': {'Ana': 35, 'Marcos': 35, 'Pedro': 30, 'Claudia': 35, 'Adriano': 40, 'Janaina': 40, 'Leonardo': 45}, 'Trek': {'Ana': 30.0, 'Marcos': 15.0, 'Claudia': 30.0, 'Adriano': 20.0}, 'Exterminador': {'Ana': 35, 'Marcos': 50, 'Pedro': 35, 'Claudia': 40, 'Adriano': 30, 'Janaina': 50, 'Leonardo': 40}, 'Norbit': {'Ana': 25.0, 'Marcos': 35.0, 'Claudia': 25.0, 'Adriano': 20.0, 'Janaina': 35.0, 'Leonardo': 10.0}, 'Wars': {'Ana': 30.0, 'Marcos': 30.0, 'Pedro': 40.0, 'Claudia': 45.0, 'Adriano': 30.0, 'Janaina': 30.0}}\n"
     ]
    }
   ],
   "source": [
    "read = pd.read_csv('base.csv', delimiter=';')\n",
    "read.index = read['Pessoa']\n",
    "catalogo = {}\n",
    "filmes = []\n",
    "\n",
    "for i in read:\n",
    "    if i != 'Pessoa':\n",
    "        filmes.append(i)\n",
    "\n",
    "for pessoa in read['Pessoa']:\n",
    "    excluir = []\n",
    "    notamovie = {}\n",
    "    for i in range(len(filmes)):\n",
    "        if read[filmes[i]][pessoa] >= 0:\n",
    "            notamovie[filmes[i]] = read[filmes[i]][pessoa]\n",
    "        else:\n",
    "            excluir.append(filmes[i])\n",
    "    catalogo[pessoa] = notamovie\n",
    "    for i in range(len(excluir)):\n",
    "        catalogo[pessoa][excluir[i]] = 0\n",
    "        del catalogo[pessoa][excluir[i]]\n",
    "print(catalogo)\n",
    "print('\\n')\n",
    "\n",
    "inverso = {}\n",
    "for f in filmes:\n",
    "    excluir = []\n",
    "    notapessoa = {}\n",
    "    for pessoa in read['Pessoa']:\n",
    "        if read[f][pessoa] >= 0:\n",
    "            notapessoa[pessoa] = read[f][pessoa]\n",
    "    inverso[f] = notapessoa\n",
    "print(inverso)"
   ]
  },
  {
   "cell_type": "code",
   "execution_count": 10,
   "metadata": {},
   "outputs": [
    {
     "name": "stdout",
     "output_type": "stream",
     "text": [
      "{'Ana': {'Freddy': 25, 'Bourne': 35, 'Trek': 30, 'Exterminador': 35, 'Norbit': 25, 'Wars': 30}, 'Marcos': {'Freddy': 30, 'Bourne': 35, 'Trek': 15, 'Exterminador': 50, 'Norbit': 35, 'Wars': 30}, 'Pedro': {'Freddy': 25.0, 'Bourne': 30.0, 'Exterminador': 35.0, 'Wars': 40.0}, 'Claudia': {'Bourne': 35.0, 'Trek': 30.0, 'Exterminador': 40.0, 'Norbit': 25.0, 'Wars': 45.0}, 'Adriano': {'Freddy': 30, 'Bourne': 40, 'Trek': 20, 'Exterminador': 30, 'Norbit': 20, 'Wars': 30}, 'Janaina': {'Freddy': 30.0, 'Bourne': 40.0, 'Exterminador': 50.0, 'Norbit': 35.0, 'Wars': 30.0}, 'Leonardo': {'Bourne': 45.0, 'Exterminador': 40.0, 'Norbit': 10.0}}\n",
      "\n",
      "\n",
      "{'Freddy': {'Ana': 25, 'Marcos': 30, 'Pedro': 25.0, 'Adriano': 30, 'Janaina': 30.0}, 'Bourne': {'Ana': 35, 'Marcos': 35, 'Pedro': 30.0, 'Claudia': 35.0, 'Adriano': 40, 'Janaina': 40.0, 'Leonardo': 45.0}, 'Trek': {'Ana': 30, 'Marcos': 15, 'Claudia': 30.0, 'Adriano': 20}, 'Exterminador': {'Ana': 35, 'Marcos': 50, 'Pedro': 35.0, 'Claudia': 40.0, 'Adriano': 30, 'Janaina': 50.0, 'Leonardo': 40.0}, 'Norbit': {'Ana': 25, 'Marcos': 35, 'Claudia': 25.0, 'Adriano': 20, 'Janaina': 35.0, 'Leonardo': 10.0}, 'Wars': {'Ana': 30, 'Marcos': 30, 'Pedro': 40.0, 'Claudia': 45.0, 'Adriano': 30, 'Janaina': 30.0}}\n"
     ]
    }
   ],
   "source": [
    "read = pd.read_csv('b.csv', delimiter=';')\n",
    "read.index = read['Filmes']\n",
    "catalogo = {}\n",
    "filmes = []\n",
    "people = []\n",
    "\n",
    "for filme in read['Filmes']:\n",
    "    filmes.append(filme)\n",
    "\n",
    "for i in read:\n",
    "    if i != 'Filmes':\n",
    "        people.append(i)\n",
    "\n",
    "for pessoa in people:\n",
    "    excluir = []\n",
    "    notamovie = {}\n",
    "    for i in range(len(filmes)): \n",
    "        if read[pessoa][filmes[i]] >= 0:\n",
    "            notamovie[filmes[i]] = read[pessoa][filmes[i]]\n",
    "        else:\n",
    "            excluir.append(filmes[i])\n",
    "    catalogo[pessoa] = notamovie\n",
    "    for i in range(len(excluir)):\n",
    "        catalogo[pessoa][excluir[i]] = 0\n",
    "        del catalogo[pessoa][excluir[i]]\n",
    "print(catalogo)\n",
    "print('\\n')\n",
    "\n",
    "inverso = {}\n",
    "for f in filmes:\n",
    "    excluir = []\n",
    "    notapessoa = {}\n",
    "    for pessoa in people:\n",
    "        if read[pessoa][f] >= 0:\n",
    "            notapessoa[pessoa] = read[pessoa][f]\n",
    "    inverso[f] = notapessoa\n",
    "print(inverso)"
   ]
  },
  {
   "cell_type": "code",
   "execution_count": 11,
   "metadata": {
    "collapsed": true
   },
   "outputs": [],
   "source": [
    "def getSimilaridades(base, usuario):\n",
    "    similaridade = [(euclidiana(base, usuario, outro), outro)\n",
    "                   for outro in base if outro != usuario]\n",
    "    similaridade.sort()\n",
    "    similaridade.reverse()\n",
    "    return similaridade[0:30]"
   ]
  },
  {
   "cell_type": "code",
   "execution_count": 12,
   "metadata": {},
   "outputs": [
    {
     "data": {
      "text/plain": [
       "[(0.4721359549995794, 'Pedro'),\n",
       " (0.4142135623730951, 'Adriano'),\n",
       " (0.38742588672279304, 'Claudia'),\n",
       " (0.3483314773547883, 'Leonardo'),\n",
       " (0.3405424265831667, 'Janaina'),\n",
       " (0.29429805508554946, 'Marcos')]"
      ]
     },
     "execution_count": 12,
     "metadata": {},
     "output_type": "execute_result"
    }
   ],
   "source": [
    "getSimilaridades(a1, 'Ana')"
   ]
  },
  {
   "cell_type": "code",
   "execution_count": 13,
   "metadata": {},
   "outputs": [
    {
     "data": {
      "text/plain": [
       "0.5358983848622454"
      ]
     },
     "execution_count": 13,
     "metadata": {},
     "output_type": "execute_result"
    }
   ],
   "source": [
    "euclidiana(a1, 'Pedro', 'Claudia')"
   ]
  },
  {
   "cell_type": "code",
   "execution_count": 14,
   "metadata": {
    "collapsed": true
   },
   "outputs": [],
   "source": [
    "def getRecomendacoes(base, usuario): #usuario\n",
    "    totais = {}\n",
    "    somaSimilaridade = {}\n",
    "    for outro in base:\n",
    "        if outro == usuario: continue\n",
    "        similaridade = euclidiana(base, usuario, outro)\n",
    "        if similaridade <= 0: continue\n",
    "        for item in base[outro]:\n",
    "            if item not in base[usuario]:\n",
    "                totais.setdefault(item, 0)\n",
    "                totais[item] += base[outro][item] * similaridade\n",
    "                somaSimilaridade.setdefault(item, 0)\n",
    "                somaSimilaridade[item] += similaridade\n",
    "    rankings = [(total/somaSimilaridade[item], item) for item, total in totais.items()]\n",
    "    rankings.sort()\n",
    "    rankings.reverse()\n",
    "    return rankings[0:30]"
   ]
  },
  {
   "cell_type": "code",
   "execution_count": 15,
   "metadata": {},
   "outputs": [
    {
     "data": {
      "text/plain": [
       "[(2.4825817086405517, 'Star Trek'), (2.453379230569188, 'Norbit')]"
      ]
     },
     "execution_count": 15,
     "metadata": {},
     "output_type": "execute_result"
    }
   ],
   "source": [
    "getRecomendacoes(a1, 'Pedro')"
   ]
  },
  {
   "cell_type": "code",
   "execution_count": 21,
   "metadata": {
    "collapsed": true
   },
   "outputs": [],
   "source": [
    "def mediaRecomendacao(base, usuario):\n",
    "    x = 0\n",
    "    soma = 0\n",
    "    for film in base[usuario]:\n",
    "            x = x + 1\n",
    "            soma += base[usuario][film]\n",
    "    return soma/x"
   ]
  },
  {
   "cell_type": "code",
   "execution_count": 22,
   "metadata": {},
   "outputs": [
    {
     "data": {
      "text/plain": [
       "3.1666666666666665"
      ]
     },
     "execution_count": 22,
     "metadata": {},
     "output_type": "execute_result"
    }
   ],
   "source": [
    "mediaRecomendacao(a1, 'Leonardo')"
   ]
  },
  {
   "cell_type": "code",
   "execution_count": 23,
   "metadata": {
    "collapsed": true
   },
   "outputs": [],
   "source": [
    "a2 = {'Freddy': \n",
    "\t\t{'Ana': 2.5, \n",
    "\t\t 'Marcos:': 3.0 ,\n",
    "\t\t 'Pedro': 2.5, \n",
    "\t\t 'Adriano': 3.0, \n",
    "\t\t 'Janaina': 3.0 },\n",
    "\t \n",
    "\t 'Bourne': \n",
    "\t\t{'Ana': 3.5, \n",
    "\t\t 'Marcos': 3.5,\n",
    "\t\t 'Pedro': 3.0, \n",
    "\t\t 'Claudia': 3.5, \n",
    "\t\t 'Adriano': 4.0, \n",
    "\t\t 'Janaina': 4.0,\n",
    "\t\t 'Leonardo': 4.5 },\n",
    "\t\t\t\t \n",
    "\t 'Trek': \n",
    "\t\t{'Ana': 3.0, \n",
    "\t\t 'Marcos:': 1.5,\n",
    "\t\t 'Claudia': 3.0, \n",
    "\t\t 'Adriano': 2.0 },\n",
    "\t\n",
    "\t 'Exterminador': \n",
    "\t\t{'Ana': 3.5, \n",
    "\t\t 'Marcos:': 5.0 ,\n",
    "\t\t 'Pedro': 3.5, \n",
    "\t\t 'Claudia': 4.0, \n",
    "\t\t 'Adriano': 3.0, \n",
    "\t\t 'Janaina': 5.0,\n",
    "\t\t 'Leonardo': 4.0},\n",
    "\t\t\t\t \n",
    "\t 'Norbit': \n",
    "\t\t{'Ana': 2.5, \n",
    "\t\t 'Marcos:': 3.0 ,\n",
    "\t\t 'Claudia': 2.5, \n",
    "\t\t 'Adriano': 2.0, \n",
    "\t\t 'Janaina': 3.5,\n",
    "\t\t 'Leonardo': 1.0},\n",
    "\t\t\t\t \n",
    "\t 'Wars': \n",
    "\t\t{'Ana': 3.0, \n",
    "\t\t 'Marcos:': 3.5,\n",
    "\t\t 'Pedro': 4.0, \n",
    "\t\t 'Claudia': 4.5, \n",
    "\t\t 'Adriano': 3.0, \n",
    "\t\t 'Janaina': 3.0}\n",
    "}"
   ]
  },
  {
   "cell_type": "code",
   "execution_count": 24,
   "metadata": {},
   "outputs": [
    {
     "data": {
      "text/plain": [
       "{'Adriano': 3.0,\n",
       " 'Ana': 3.0,\n",
       " 'Claudia': 4.5,\n",
       " 'Janaina': 3.0,\n",
       " 'Marcos:': 3.5,\n",
       " 'Pedro': 4.0}"
      ]
     },
     "execution_count": 24,
     "metadata": {},
     "output_type": "execute_result"
    }
   ],
   "source": [
    "a2['Wars']"
   ]
  },
  {
   "cell_type": "code",
   "execution_count": 25,
   "metadata": {},
   "outputs": [
    {
     "data": {
      "text/plain": [
       "[(0.3761785115301142, 'Freddy'),\n",
       " (0.3266316347104093, 'Bourne'),\n",
       " (0.29429805508554946, 'Norbit'),\n",
       " (0.27429188517743175, 'Exterminador'),\n",
       " (0.2708131845707603, 'Trek')]"
      ]
     },
     "execution_count": 25,
     "metadata": {},
     "output_type": "execute_result"
    }
   ],
   "source": [
    "getSimilaridades(a2, 'Wars')"
   ]
  },
  {
   "cell_type": "code",
   "execution_count": 26,
   "metadata": {
    "collapsed": true
   },
   "outputs": [],
   "source": [
    "def carregaMovie(path='C:/Users/lidia/OneDrive/Faculdade/Learning/Python/jupyter/Sistemas de Recomendação/ml-100k'):\n",
    "    filmes = {}\n",
    "    for linha in open(path + '/u.item'):\n",
    "        (id, titulo) = linha.split('|')[0:2]\n",
    "        filmes[id] = titulo\n",
    "    #print(filmes)\n",
    "    base = {}\n",
    "    for linha in open(path + '/u.data'):\n",
    "        (usuario, idfilme, nota, tempo) = linha.split('\\t')\n",
    "        base.setdefault(usuario, {})\n",
    "        base[usuario][filmes[idfilme]] = float(nota)\n",
    "    return base"
   ]
  },
  {
   "cell_type": "code",
   "execution_count": 27,
   "metadata": {},
   "outputs": [
    {
     "data": {
      "text/plain": [
       "[(1.0, '915'),\n",
       " (1.0, '866'),\n",
       " (1.0, '856'),\n",
       " (1.0, '850'),\n",
       " (1.0, '849'),\n",
       " (1.0, '837'),\n",
       " (1.0, '820'),\n",
       " (1.0, '818'),\n",
       " (1.0, '81'),\n",
       " (1.0, '809'),\n",
       " (1.0, '808'),\n",
       " (1.0, '801'),\n",
       " (1.0, '78'),\n",
       " (1.0, '770'),\n",
       " (1.0, '759'),\n",
       " (1.0, '75'),\n",
       " (1.0, '722'),\n",
       " (1.0, '71'),\n",
       " (1.0, '612'),\n",
       " (1.0, '61'),\n",
       " (1.0, '596'),\n",
       " (1.0, '584'),\n",
       " (1.0, '583'),\n",
       " (1.0, '580'),\n",
       " (1.0, '575'),\n",
       " (1.0, '572'),\n",
       " (1.0, '57'),\n",
       " (1.0, '547'),\n",
       " (1.0, '544'),\n",
       " (1.0, '53')]"
      ]
     },
     "execution_count": 27,
     "metadata": {},
     "output_type": "execute_result"
    }
   ],
   "source": [
    "getSimilaridades(carregaMovie(), '212')"
   ]
  },
  {
   "cell_type": "code",
   "execution_count": 28,
   "metadata": {},
   "outputs": [
    {
     "data": {
      "text/plain": [
       "[(1.0, '812'),\n",
       " (1.0, '418'),\n",
       " (1.0, '155'),\n",
       " (0.5, '729'),\n",
       " (0.5, '631'),\n",
       " (0.5, '351'),\n",
       " (0.5, '309'),\n",
       " (0.5, '273'),\n",
       " (0.4142135623730951, '876'),\n",
       " (0.4142135623730951, '485'),\n",
       " (0.4142135623730951, '111'),\n",
       " (0.36602540378443865, '687'),\n",
       " (0.36602540378443865, '105'),\n",
       " (0.3333333333333333, '895'),\n",
       " (0.3333333333333333, '811'),\n",
       " (0.3333333333333333, '685'),\n",
       " (0.3333333333333333, '531'),\n",
       " (0.3333333333333333, '39'),\n",
       " (0.3333333333333333, '356'),\n",
       " (0.3333333333333333, '341'),\n",
       " (0.3333333333333333, '282'),\n",
       " (0.3333333333333333, '260'),\n",
       " (0.3333333333333333, '107'),\n",
       " (0.3090169943749474, '9'),\n",
       " (0.3090169943749474, '842'),\n",
       " (0.3090169943749474, '820'),\n",
       " (0.3090169943749474, '696'),\n",
       " (0.3090169943749474, '547'),\n",
       " (0.3090169943749474, '520'),\n",
       " (0.3090169943749474, '516')]"
      ]
     },
     "execution_count": 28,
     "metadata": {},
     "output_type": "execute_result"
    }
   ],
   "source": [
    "getSimilaridades(carregaMovie(), '1')"
   ]
  },
  {
   "cell_type": "code",
   "execution_count": 29,
   "metadata": {},
   "outputs": [
    {
     "data": {
      "text/plain": [
       "[(5.0, 'They Made Me a Criminal (1939)'),\n",
       " (5.0, 'Star Kid (1997)'),\n",
       " (5.0, \"Someone Else's America (1995)\"),\n",
       " (5.0, 'Santa with Muscles (1996)'),\n",
       " (5.0, 'Saint of Fort Washington, The (1993)'),\n",
       " (5.0, 'Prefontaine (1997)'),\n",
       " (5.0, 'Marlene Dietrich: Shadow and Light (1996) '),\n",
       " (5.0, 'Great Day in Harlem, A (1994)'),\n",
       " (5.0, 'Entertaining Angels: The Dorothy Day Story (1996)'),\n",
       " (5.0, 'Aiqing wansui (1994)'),\n",
       " (4.678464513946264, 'Delta of Venus (1994)'),\n",
       " (4.669110773445877, 'Innocents, The (1961)'),\n",
       " (4.6679881166781785, 'Pather Panchali (1955)'),\n",
       " (4.643210827674669, 'Letter From Death Row, A (1998)'),\n",
       " (4.636191497550252, 'Maya Lin: A Strong Clear Vision (1994)'),\n",
       " (4.6151289598408765, 'Anna (1996)'),\n",
       " (4.558310593401602, \"Some Mother's Son (1996)\"),\n",
       " (4.493969532782648, 'Shawshank Redemption, The (1994)'),\n",
       " (4.481115124220606, 'Leading Man, The (1996)'),\n",
       " (4.45837363085848, 'For the Moment (1994)'),\n",
       " (4.457258689756284, 'Third Man, The (1949)'),\n",
       " (4.445996248823582, 'Casablanca (1942)'),\n",
       " (4.431685947747432, 'Everest (1998)'),\n",
       " (4.42978055610852, 'Bitter Sugar (Azucar Amargo) (1996)'),\n",
       " (4.407495008220233, 'Rear Window (1954)'),\n",
       " (4.4065569308647765, 'Usual Suspects, The (1995)'),\n",
       " (4.378592892105554, 'Golden Earrings (1947)'),\n",
       " (4.367916150868721, 'Close Shave, A (1995)'),\n",
       " (4.367825982472788, 'Magic Hour, The (1998)'),\n",
       " (4.367501452423068, 'Wallace & Gromit: The Best of Aardman Animation (1996)')]"
      ]
     },
     "execution_count": 29,
     "metadata": {},
     "output_type": "execute_result"
    }
   ],
   "source": [
    "getRecomendacoes(carregaMovie(), '212') #id do usuario (da pra ajeitar facil -espero, mas eu n conheco essa base de dados)"
   ]
  },
  {
   "cell_type": "code",
   "execution_count": 30,
   "metadata": {},
   "outputs": [
    {
     "data": {
      "text/plain": [
       "[(5.000000000000001, 'Saint of Fort Washington, The (1993)'),\n",
       " (5.0, 'They Made Me a Criminal (1939)'),\n",
       " (5.0, \"Someone Else's America (1995)\"),\n",
       " (5.0, 'Santa with Muscles (1996)'),\n",
       " (5.0, 'Prefontaine (1997)'),\n",
       " (5.0, 'Marlene Dietrich: Shadow and Light (1996) '),\n",
       " (5.0, 'Great Day in Harlem, A (1994)'),\n",
       " (5.0, 'Entertaining Angels: The Dorothy Day Story (1996)'),\n",
       " (5.0, 'Aiqing wansui (1994)'),\n",
       " (4.999999999999999, 'Star Kid (1997)'),\n",
       " (4.709540786352371, 'Pather Panchali (1955)'),\n",
       " (4.623660893418929, \"Some Mother's Son (1996)\"),\n",
       " (4.605117943969987, 'Anna (1996)'),\n",
       " (4.542493480195261, 'Letter From Death Row, A (1998)'),\n",
       " (4.514686319613309, 'Close Shave, A (1995)'),\n",
       " (4.503301065093885, \"Schindler's List (1993)\"),\n",
       " (4.474029296757844, 'Casablanca (1942)'),\n",
       " (4.44823347681708, 'Third Man, The (1949)'),\n",
       " (4.4388914364740515, 'Faust (1994)'),\n",
       " (4.412532456819868, 'Everest (1998)'),\n",
       " (4.402793159814662, 'Rear Window (1954)'),\n",
       " (4.364687978517131, 'Bitter Sugar (Azucar Amargo) (1996)'),\n",
       " (4.331480711411843, 'Secrets & Lies (1996)'),\n",
       " (4.33115138680285, 'Stonewall (1995)'),\n",
       " (4.326873957991623, 'North by Northwest (1959)'),\n",
       " (4.317101121475913, \"One Flew Over the Cuckoo's Nest (1975)\"),\n",
       " (4.310897076014406, 'To Kill a Mockingbird (1962)'),\n",
       " (4.303959889860895, 'Kaspar Hauser (1993)'),\n",
       " (4.303538676927596, 'Lawrence of Arabia (1962)'),\n",
       " (4.28865836532846, 'Manchurian Candidate, The (1962)')]"
      ]
     },
     "execution_count": 30,
     "metadata": {},
     "output_type": "execute_result"
    }
   ],
   "source": [
    "getRecomendacoes(carregaMovie(), '1')"
   ]
  },
  {
   "cell_type": "code",
   "execution_count": 31,
   "metadata": {},
   "outputs": [
    {
     "data": {
      "text/plain": [
       "[(0.3761785115301142, 'Exterminador'),\n",
       " (0.3567891723253309, 'Freddy'),\n",
       " (0.3266316347104093, 'Wars'),\n",
       " (0.32037724101704074, 'Trek'),\n",
       " (0.1886378647726465, 'Norbit')]"
      ]
     },
     "execution_count": 31,
     "metadata": {},
     "output_type": "execute_result"
    }
   ],
   "source": [
    "getSimilaridades(a2, 'Bourne')"
   ]
  },
  {
   "cell_type": "code",
   "execution_count": 32,
   "metadata": {
    "collapsed": true
   },
   "outputs": [],
   "source": [
    "def calculaItensSimilares(base):\n",
    "    result = {}\n",
    "    for item in base:\n",
    "        notas = getSimilaridades(base, item)\n",
    "        result[item] = notas\n",
    "    return result"
   ]
  },
  {
   "cell_type": "code",
   "execution_count": 33,
   "metadata": {},
   "outputs": [
    {
     "data": {
      "text/plain": [
       "{'Bourne': [(0.3761785115301142, 'Exterminador'),\n",
       "  (0.3567891723253309, 'Freddy'),\n",
       "  (0.3266316347104093, 'Wars'),\n",
       "  (0.32037724101704074, 'Trek'),\n",
       "  (0.1886378647726465, 'Norbit')],\n",
       " 'Exterminador': [(0.3761785115301142, 'Bourne'),\n",
       "  (0.27429188517743175, 'Wars'),\n",
       "  (0.2402530733520421, 'Freddy'),\n",
       "  (0.20799159651347807, 'Trek'),\n",
       "  (0.18464218557642828, 'Norbit')],\n",
       " 'Freddy': [(0.4721359549995794, 'Norbit'),\n",
       "  (0.3761785115301142, 'Wars'),\n",
       "  (0.3567891723253309, 'Bourne'),\n",
       "  (0.3483314773547883, 'Trek'),\n",
       "  (0.2402530733520421, 'Exterminador')],\n",
       " 'Norbit': [(0.4721359549995794, 'Freddy'),\n",
       "  (0.3761785115301142, 'Trek'),\n",
       "  (0.29429805508554946, 'Wars'),\n",
       "  (0.1886378647726465, 'Bourne'),\n",
       "  (0.18464218557642828, 'Exterminador')],\n",
       " 'Trek': [(0.3761785115301142, 'Norbit'),\n",
       "  (0.3483314773547883, 'Freddy'),\n",
       "  (0.32037724101704074, 'Bourne'),\n",
       "  (0.2708131845707603, 'Wars'),\n",
       "  (0.20799159651347807, 'Exterminador')],\n",
       " 'Wars': [(0.3761785115301142, 'Freddy'),\n",
       "  (0.3266316347104093, 'Bourne'),\n",
       "  (0.29429805508554946, 'Norbit'),\n",
       "  (0.27429188517743175, 'Exterminador'),\n",
       "  (0.2708131845707603, 'Trek')]}"
      ]
     },
     "execution_count": 33,
     "metadata": {},
     "output_type": "execute_result"
    }
   ],
   "source": [
    "calculaItensSimilares(a2)"
   ]
  },
  {
   "cell_type": "code",
   "execution_count": 53,
   "metadata": {
    "collapsed": true
   },
   "outputs": [],
   "source": [
    "def getRecomendacoesItens(baseUser, similaridadeItens, usuario):  #se os dados forem esparsos (poucas pessoas dao notas)\n",
    "    notasUsuario = baseUser[usuario]\n",
    "    notas = {}\n",
    "    totalSimilaridades = {}\n",
    "    for (item, nota) in notasUsuario.items(): #item = filmes q usuario assistiu\n",
    "        for (similaridade, item2) in similaridadeItens[item]: #item2 = filmes q usuario nao assistiu\n",
    "            if item2 in notasUsuario: continue\n",
    "            notas.setdefault(item2, 0)\n",
    "            notas[item2] += similaridade * nota\n",
    "            totalSimilaridades.setdefault(item2, 0)\n",
    "            totalSimilaridades[item2] += similaridade\n",
    "    rankings = [(score/totalSimilaridades[item], item)\n",
    "               for item, score in notas.items()]\n",
    "    rankings.sort()\n",
    "    rankings.reverse()\n",
    "    return rankings"
   ]
  },
  {
   "cell_type": "code",
   "execution_count": 54,
   "metadata": {},
   "outputs": [
    {
     "data": {
      "text/plain": [
       "[(3.457128694491423, 'Wars'),\n",
       " (2.778584003814924, 'Freddy'),\n",
       " (2.422482042361917, 'Trek')]"
      ]
     },
     "execution_count": 54,
     "metadata": {},
     "output_type": "execute_result"
    }
   ],
   "source": [
    "getRecomendacoes(a1, 'Leonardo')"
   ]
  },
  {
   "cell_type": "code",
   "execution_count": 55,
   "metadata": {},
   "outputs": [
    {
     "data": {
      "text/plain": [
       "[(3.1962008423190285, 'Wars'),\n",
       " (2.929467965289551, 'Trek'),\n",
       " (2.8420889258196413, 'Freddy')]"
      ]
     },
     "execution_count": 55,
     "metadata": {},
     "output_type": "execute_result"
    }
   ],
   "source": [
    "listaItens = calculaItensSimilares(a2)\n",
    "getRecomendacoesItens(a1, listaItens, 'Leonardo')"
   ]
  },
  {
   "cell_type": "code",
   "execution_count": null,
   "metadata": {
    "collapsed": true
   },
   "outputs": [],
   "source": []
  }
 ],
 "metadata": {
  "kernelspec": {
   "display_name": "Python 3",
   "language": "python",
   "name": "python3"
  },
  "language_info": {
   "codemirror_mode": {
    "name": "ipython",
    "version": 3
   },
   "file_extension": ".py",
   "mimetype": "text/x-python",
   "name": "python",
   "nbconvert_exporter": "python",
   "pygments_lexer": "ipython3",
   "version": "3.6.2"
  }
 },
 "nbformat": 4,
 "nbformat_minor": 2
}
