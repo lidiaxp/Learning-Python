{
 "cells": [
  {
   "cell_type": "code",
   "execution_count": 10,
   "metadata": {
    "collapsed": false
   },
   "outputs": [
    {
     "name": "stdout",
     "output_type": "stream",
     "text": [
      "{'marcos': 28, 'maria': 20, 'pedro': 18}\n",
      "28\n",
      "25\n",
      "{'marcos': 25, 'maria': 20, 'pedro': 18, 'felipe': 30}\n",
      "25 20 18 30 dict_items([('marcos', 25), ('maria', 20), ('pedro', 18), ('felipe', 30)])\n",
      "dict_keys(['marcos', 'maria', 'pedro', 'felipe'])\n",
      "dict_values([25, 20, 18, 30])\n",
      "True\n",
      "False\n"
     ]
    }
   ],
   "source": [
    "d = {'marcos':28, 'maria':20, 'pedro':18}\n",
    "print(d)\n",
    "print(d['marcos'])\n",
    "d['marcos'] = 25\n",
    "print(d['marcos'])\n",
    "d['felipe'] = 30\n",
    "print(d)\n",
    "\n",
    "for k in d:\n",
    "    print(d[k], end=' ')\n",
    "    \n",
    "print(d.items())\n",
    "print(d.keys())\n",
    "print(d.values())\n",
    "print('maria' in d)\n",
    "print('python' in d)"
   ]
  }
 ],
 "metadata": {
  "kernelspec": {
   "display_name": "Python 3",
   "language": "python",
   "name": "python3"
  },
  "language_info": {
   "codemirror_mode": {
    "name": "ipython",
    "version": 3
   },
   "file_extension": ".py",
   "mimetype": "text/x-python",
   "name": "python",
   "nbconvert_exporter": "python",
   "pygments_lexer": "ipython3",
   "version": "3.4.3"
  }
 },
 "nbformat": 4,
 "nbformat_minor": 1
}
