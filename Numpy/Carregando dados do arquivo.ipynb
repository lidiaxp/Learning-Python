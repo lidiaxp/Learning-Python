{
 "cells": [
  {
   "cell_type": "code",
   "execution_count": 6,
   "metadata": {
    "collapsed": true
   },
   "outputs": [],
   "source": [
    "import numpy as np"
   ]
  },
  {
   "cell_type": "code",
   "execution_count": 10,
   "metadata": {
    "collapsed": false
   },
   "outputs": [
    {
     "name": "stdout",
     "output_type": "stream",
     "text": [
      "[ 0.1212  0.104   0.5661  0.762 ]\n",
      "[ 0.842     0.5422    0.932     0.847361]\n",
      "[ 0.3672   0.34551  0.2344   0.1538 ]\n"
     ]
    }
   ],
   "source": [
    "val1, val2, val3 = np.loadtxt('dados.txt', skiprows=1, unpack=True)\n",
    "print(val1)\n",
    "print(val2)\n",
    "print(val3)"
   ]
  },
  {
   "cell_type": "code",
   "execution_count": 13,
   "metadata": {
    "collapsed": false
   },
   "outputs": [
    {
     "name": "stdout",
     "output_type": "stream",
     "text": [
      "[[  1.21200000e-01   8.42000000e-01   3.67200000e-01]\n",
      " [ -9.99000000e+02   5.42200000e-01   3.45510000e-01]\n",
      " [  5.66100000e-01   9.32000000e-01  -9.99000000e+02]\n",
      " [  7.62000000e-01   8.47361000e-01   1.53800000e-01]]\n"
     ]
    }
   ],
   "source": [
    "my_array = np.genfromtxt('dados2.txt', skip_header=1, filling_values=-999)\n",
    "print(my_array)"
   ]
  }
 ],
 "metadata": {
  "kernelspec": {
   "display_name": "Python 3",
   "language": "python",
   "name": "python3"
  },
  "language_info": {
   "codemirror_mode": {
    "name": "ipython",
    "version": 3
   },
   "file_extension": ".py",
   "mimetype": "text/x-python",
   "name": "python",
   "nbconvert_exporter": "python",
   "pygments_lexer": "ipython3",
   "version": "3.4.3"
  }
 },
 "nbformat": 4,
 "nbformat_minor": 1
}
