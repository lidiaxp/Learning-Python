{
 "cells": [
  {
   "cell_type": "code",
   "execution_count": 1,
   "metadata": {
    "collapsed": true
   },
   "outputs": [],
   "source": [
    "'''\n",
    "Dataset: https://archive.ics.uci.edu/ml/datasets/Balance+Scale\n",
    "\n",
    "Attribute Information:\n",
    " 1. Class Name: 3 (L, B, R)\n",
    " 2. Left-Weight: 5(1, 2, 3, 4, 5)\n",
    " 3. Left-Distance: 5 (1, 2, 3, 4, 5)\n",
    " 4. Right-Weigth: 5 (1, 2, 3, 4, 5)\n",
    " 5. Rigth-Distance: 5 (1, 2, 3, 4, 5)\n",
    " \n",
    " São 625 exemplos, 4 atributos e 3 possíveis classes.\n",
    " Onde tem \"L\" coloquei 1, onde tem \"B\" coloquei 2 e onde tem \"R\" coloquei 3\n",
    "'''\n",
    "\n",
    "import numpy as np"
   ]
  },
  {
   "cell_type": "code",
   "execution_count": 3,
   "metadata": {},
   "outputs": [
    {
     "name": "stdout",
     "output_type": "stream",
     "text": [
      "625\n",
      "625\n",
      "[[ 1.  1.  1.  1.]\n",
      " [ 1.  1.  1.  2.]\n",
      " [ 1.  1.  1.  3.]\n",
      " ..., \n",
      " [ 5.  5.  5.  3.]\n",
      " [ 5.  5.  5.  4.]\n",
      " [ 5.  5.  5.  5.]]\n",
      "[ 2.  3.  3.  3.  3.  3.  3.  3.  3.  3.  3.  3.  3.  3.  3.  3.  3.  3.\n",
      "  3.  3.  3.  3.  3.  3.  3.  1.  2.  3.  3.  3.  2.  3.  3.  3.  3.  3.\n",
      "  3.  3.  3.  3.  3.  3.  3.  3.  3.  3.  3.  3.  3.  3.  1.  1.  2.  3.\n",
      "  3.  1.  3.  3.  3.  3.  2.  3.  3.  3.  3.  3.  3.  3.  3.  3.  3.  3.\n",
      "  3.  3.  3.  1.  1.  1.  2.  3.  1.  2.  3.  3.  3.  1.  3.  3.  3.  3.\n",
      "  2.  3.  3.  3.  3.  3.  3.  3.  3.  3.  1.  1.  1.  1.  2.  1.  1.  3.\n",
      "  3.  3.  1.  3.  3.  3.  3.  1.  3.  3.  3.  3.  2.  3.  3.  3.  3.  1.\n",
      "  2.  3.  3.  3.  2.  3.  3.  3.  3.  3.  3.  3.  3.  3.  3.  3.  3.  3.\n",
      "  3.  3.  3.  3.  3.  3.  1.  1.  1.  2.  3.  1.  2.  3.  3.  3.  1.  3.\n",
      "  3.  3.  3.  2.  3.  3.  3.  3.  3.  3.  3.  3.  3.  1.  1.  1.  1.  1.\n",
      "  1.  1.  2.  3.  3.  1.  2.  3.  3.  3.  1.  3.  3.  3.  3.  1.  3.  3.\n",
      "  3.  3.  1.  1.  1.  1.  1.  1.  1.  1.  2.  3.  1.  1.  3.  3.  3.  1.\n",
      "  2.  3.  3.  3.  1.  3.  3.  3.  3.  1.  1.  1.  1.  1.  1.  1.  1.  1.\n",
      "  2.  1.  1.  1.  3.  3.  1.  1.  3.  3.  3.  1.  2.  3.  3.  3.  1.  1.\n",
      "  2.  3.  3.  1.  3.  3.  3.  3.  2.  3.  3.  3.  3.  3.  3.  3.  3.  3.\n",
      "  3.  3.  3.  3.  3.  1.  1.  1.  1.  1.  1.  1.  2.  3.  3.  1.  2.  3.\n",
      "  3.  3.  1.  3.  3.  3.  3.  1.  3.  3.  3.  3.  1.  1.  1.  1.  1.  1.\n",
      "  1.  1.  1.  3.  1.  1.  2.  3.  3.  1.  1.  3.  3.  3.  1.  3.  3.  3.\n",
      "  3.  1.  1.  1.  1.  1.  1.  1.  1.  1.  1.  1.  1.  1.  2.  3.  1.  1.\n",
      "  2.  3.  3.  1.  1.  3.  3.  3.  1.  1.  1.  1.  1.  1.  1.  1.  1.  1.\n",
      "  1.  1.  1.  1.  2.  1.  1.  1.  3.  3.  1.  1.  2.  3.  3.  1.  1.  1.\n",
      "  2.  3.  1.  2.  3.  3.  3.  1.  3.  3.  3.  3.  2.  3.  3.  3.  3.  3.\n",
      "  3.  3.  3.  3.  1.  1.  1.  1.  1.  1.  1.  1.  2.  3.  1.  1.  3.  3.\n",
      "  3.  1.  2.  3.  3.  3.  1.  3.  3.  3.  3.  1.  1.  1.  1.  1.  1.  1.\n",
      "  1.  1.  1.  1.  1.  1.  2.  3.  1.  1.  2.  3.  3.  1.  1.  3.  3.  3.\n",
      "  1.  1.  1.  1.  1.  1.  1.  1.  1.  1.  1.  1.  1.  1.  1.  1.  1.  1.\n",
      "  2.  3.  1.  1.  1.  3.  3.  1.  1.  1.  1.  1.  1.  1.  1.  1.  1.  1.\n",
      "  1.  1.  1.  1.  1.  1.  1.  1.  2.  1.  1.  1.  2.  3.  1.  1.  1.  1.\n",
      "  2.  1.  1.  3.  3.  3.  1.  3.  3.  3.  3.  1.  3.  3.  3.  3.  2.  3.\n",
      "  3.  3.  3.  1.  1.  1.  1.  1.  1.  1.  1.  1.  2.  1.  1.  1.  3.  3.\n",
      "  1.  1.  3.  3.  3.  1.  2.  3.  3.  3.  1.  1.  1.  1.  1.  1.  1.  1.\n",
      "  1.  1.  1.  1.  1.  1.  2.  1.  1.  1.  3.  3.  1.  1.  2.  3.  3.  1.\n",
      "  1.  1.  1.  1.  1.  1.  1.  1.  1.  1.  1.  1.  1.  1.  1.  1.  1.  1.\n",
      "  2.  1.  1.  1.  2.  3.  1.  1.  1.  1.  1.  1.  1.  1.  1.  1.  1.  1.\n",
      "  1.  1.  1.  1.  1.  1.  1.  1.  1.  1.  1.  1.  2.]\n"
     ]
    }
   ],
   "source": [
    "# x são as entradas e y são as saídas\n",
    "x = np.genfromtxt('dataset2.data', delimiter=',', usecols=(1, 2, 3, 4))\n",
    "y = np.genfromtxt('dataset2.data', delimiter=',', usecols=(0))\n",
    "print(len(x))\n",
    "print(len(y))\n",
    "print(x)\n",
    "print(y)"
   ]
  },
  {
   "cell_type": "code",
   "execution_count": 5,
   "metadata": {
    "collapsed": true
   },
   "outputs": [],
   "source": [
    "# doc: http://scikit-learn.org/stable/modules/generated/sklearn.model_selection.train_test_split.html\n",
    "from sklearn.model_selection import train_test_split #right way"
   ]
  },
  {
   "cell_type": "code",
   "execution_count": 6,
   "metadata": {},
   "outputs": [
    {
     "name": "stderr",
     "output_type": "stream",
     "text": [
      "C:\\Users\\lidia\\Anaconda3\\lib\\site-packages\\sklearn\\cross_validation.py:41: DeprecationWarning: This module was deprecated in version 0.18 in favor of the model_selection module into which all the refactored classes and functions are moved. Also note that the interface of the new CV iterators are different from that of this module. This module will be removed in 0.20.\n",
      "  \"This module will be removed in 0.20.\", DeprecationWarning)\n"
     ]
    }
   ],
   "source": [
    "from sklearn.cross_validation import train_test_split #depreceate"
   ]
  },
  {
   "cell_type": "code",
   "execution_count": 7,
   "metadata": {
    "collapsed": true
   },
   "outputs": [],
   "source": [
    "x_treino, x_teste, y_treino, y_teste = train_test_split(x, y, test_size=0.3, random_state=42)"
   ]
  },
  {
   "cell_type": "code",
   "execution_count": 8,
   "metadata": {},
   "outputs": [
    {
     "name": "stdout",
     "output_type": "stream",
     "text": [
      "437\n"
     ]
    },
    {
     "data": {
      "text/plain": [
       "array([[ 2.,  4.,  1.,  5.],\n",
       "       [ 1.,  4.,  3.,  4.],\n",
       "       [ 5.,  1.,  5.,  3.],\n",
       "       ..., \n",
       "       [ 3.,  1.,  5.,  1.],\n",
       "       [ 4.,  3.,  3.,  1.],\n",
       "       [ 1.,  5.,  1.,  3.]])"
      ]
     },
     "execution_count": 8,
     "metadata": {},
     "output_type": "execute_result"
    }
   ],
   "source": [
    "print(len(x_treino))\n",
    "x_treino"
   ]
  },
  {
   "cell_type": "code",
   "execution_count": 9,
   "metadata": {},
   "outputs": [
    {
     "name": "stdout",
     "output_type": "stream",
     "text": [
      "188\n"
     ]
    },
    {
     "data": {
      "text/plain": [
       "array([[ 4.,  3.,  5.,  3.],\n",
       "       [ 4.,  5.,  3.,  1.],\n",
       "       [ 2.,  4.,  4.,  1.],\n",
       "       [ 2.,  4.,  3.,  3.],\n",
       "       [ 4.,  5.,  2.,  1.],\n",
       "       [ 5.,  1.,  4.,  1.],\n",
       "       [ 2.,  2.,  3.,  4.],\n",
       "       [ 1.,  4.,  1.,  3.],\n",
       "       [ 5.,  2.,  1.,  3.],\n",
       "       [ 2.,  1.,  5.,  1.],\n",
       "       [ 3.,  1.,  4.,  1.],\n",
       "       [ 1.,  2.,  2.,  2.],\n",
       "       [ 1.,  3.,  2.,  1.],\n",
       "       [ 1.,  4.,  4.,  1.],\n",
       "       [ 5.,  3.,  2.,  3.],\n",
       "       [ 1.,  4.,  1.,  2.],\n",
       "       [ 1.,  1.,  1.,  3.],\n",
       "       [ 3.,  5.,  4.,  4.],\n",
       "       [ 4.,  1.,  5.,  1.],\n",
       "       [ 3.,  2.,  3.,  2.],\n",
       "       [ 2.,  1.,  2.,  2.],\n",
       "       [ 2.,  1.,  5.,  4.],\n",
       "       [ 1.,  2.,  5.,  5.],\n",
       "       [ 5.,  5.,  5.,  2.],\n",
       "       [ 4.,  3.,  3.,  3.],\n",
       "       [ 1.,  5.,  3.,  1.],\n",
       "       [ 3.,  1.,  2.,  3.],\n",
       "       [ 5.,  4.,  1.,  4.],\n",
       "       [ 5.,  5.,  5.,  1.],\n",
       "       [ 3.,  1.,  2.,  2.],\n",
       "       [ 3.,  4.,  2.,  5.],\n",
       "       [ 3.,  1.,  3.,  2.],\n",
       "       [ 2.,  3.,  2.,  5.],\n",
       "       [ 5.,  3.,  1.,  5.],\n",
       "       [ 2.,  1.,  2.,  3.],\n",
       "       [ 4.,  5.,  3.,  3.],\n",
       "       [ 3.,  4.,  3.,  1.],\n",
       "       [ 5.,  5.,  3.,  3.],\n",
       "       [ 2.,  3.,  2.,  2.],\n",
       "       [ 5.,  4.,  5.,  5.],\n",
       "       [ 4.,  1.,  2.,  2.],\n",
       "       [ 1.,  2.,  3.,  5.],\n",
       "       [ 1.,  4.,  3.,  2.],\n",
       "       [ 5.,  5.,  2.,  4.],\n",
       "       [ 3.,  3.,  4.,  4.],\n",
       "       [ 2.,  4.,  2.,  4.],\n",
       "       [ 3.,  1.,  3.,  1.],\n",
       "       [ 5.,  1.,  3.,  4.],\n",
       "       [ 1.,  4.,  1.,  4.],\n",
       "       [ 3.,  4.,  4.,  5.],\n",
       "       [ 5.,  3.,  2.,  2.],\n",
       "       [ 3.,  2.,  2.,  2.],\n",
       "       [ 1.,  1.,  3.,  1.],\n",
       "       [ 3.,  1.,  2.,  5.],\n",
       "       [ 5.,  5.,  1.,  1.],\n",
       "       [ 3.,  3.,  3.,  2.],\n",
       "       [ 2.,  1.,  3.,  1.],\n",
       "       [ 4.,  3.,  2.,  5.],\n",
       "       [ 2.,  4.,  3.,  1.],\n",
       "       [ 1.,  2.,  2.,  1.],\n",
       "       [ 5.,  4.,  1.,  5.],\n",
       "       [ 4.,  5.,  2.,  3.],\n",
       "       [ 2.,  3.,  4.,  3.],\n",
       "       [ 5.,  1.,  2.,  5.],\n",
       "       [ 5.,  4.,  3.,  4.],\n",
       "       [ 3.,  3.,  1.,  1.],\n",
       "       [ 1.,  3.,  2.,  2.],\n",
       "       [ 2.,  3.,  5.,  2.],\n",
       "       [ 5.,  2.,  3.,  1.],\n",
       "       [ 2.,  5.,  3.,  1.],\n",
       "       [ 3.,  1.,  5.,  3.],\n",
       "       [ 1.,  1.,  5.,  5.],\n",
       "       [ 1.,  4.,  2.,  3.],\n",
       "       [ 2.,  2.,  2.,  4.],\n",
       "       [ 5.,  2.,  4.,  4.],\n",
       "       [ 2.,  4.,  5.,  1.],\n",
       "       [ 5.,  4.,  4.,  3.],\n",
       "       [ 1.,  3.,  5.,  1.],\n",
       "       [ 3.,  5.,  2.,  3.],\n",
       "       [ 5.,  1.,  3.,  3.],\n",
       "       [ 3.,  5.,  4.,  5.],\n",
       "       [ 1.,  3.,  3.,  1.],\n",
       "       [ 4.,  1.,  5.,  4.],\n",
       "       [ 4.,  2.,  2.,  1.],\n",
       "       [ 2.,  4.,  2.,  5.],\n",
       "       [ 5.,  4.,  4.,  5.],\n",
       "       [ 4.,  4.,  1.,  1.],\n",
       "       [ 5.,  3.,  2.,  5.],\n",
       "       [ 2.,  2.,  5.,  5.],\n",
       "       [ 3.,  5.,  1.,  1.],\n",
       "       [ 3.,  1.,  1.,  1.],\n",
       "       [ 3.,  3.,  1.,  2.],\n",
       "       [ 1.,  2.,  1.,  5.],\n",
       "       [ 5.,  3.,  5.,  1.],\n",
       "       [ 1.,  5.,  1.,  2.],\n",
       "       [ 2.,  4.,  4.,  4.],\n",
       "       [ 3.,  2.,  4.,  3.],\n",
       "       [ 3.,  1.,  5.,  5.],\n",
       "       [ 4.,  2.,  4.,  3.],\n",
       "       [ 3.,  1.,  5.,  2.],\n",
       "       [ 2.,  4.,  1.,  4.],\n",
       "       [ 5.,  2.,  2.,  5.],\n",
       "       [ 4.,  2.,  5.,  2.],\n",
       "       [ 3.,  2.,  2.,  5.],\n",
       "       [ 2.,  5.,  2.,  2.],\n",
       "       [ 1.,  4.,  2.,  2.],\n",
       "       [ 3.,  4.,  4.,  1.],\n",
       "       [ 1.,  5.,  2.,  5.],\n",
       "       [ 4.,  3.,  4.,  4.],\n",
       "       [ 2.,  5.,  1.,  3.],\n",
       "       [ 1.,  3.,  3.,  4.],\n",
       "       [ 2.,  2.,  2.,  1.],\n",
       "       [ 1.,  3.,  5.,  3.],\n",
       "       [ 4.,  1.,  2.,  3.],\n",
       "       [ 5.,  4.,  2.,  4.],\n",
       "       [ 1.,  5.,  4.,  4.],\n",
       "       [ 5.,  4.,  2.,  5.],\n",
       "       [ 3.,  3.,  3.,  1.],\n",
       "       [ 5.,  4.,  2.,  1.],\n",
       "       [ 2.,  4.,  3.,  2.],\n",
       "       [ 2.,  1.,  4.,  1.],\n",
       "       [ 5.,  3.,  5.,  4.],\n",
       "       [ 2.,  5.,  1.,  4.],\n",
       "       [ 4.,  2.,  3.,  3.],\n",
       "       [ 2.,  3.,  3.,  4.],\n",
       "       [ 5.,  1.,  3.,  5.],\n",
       "       [ 4.,  4.,  4.,  5.],\n",
       "       [ 1.,  1.,  2.,  2.],\n",
       "       [ 1.,  5.,  1.,  5.],\n",
       "       [ 1.,  5.,  3.,  5.],\n",
       "       [ 4.,  5.,  1.,  3.],\n",
       "       [ 4.,  5.,  5.,  2.],\n",
       "       [ 4.,  5.,  4.,  5.],\n",
       "       [ 5.,  3.,  4.,  4.],\n",
       "       [ 4.,  3.,  1.,  4.],\n",
       "       [ 3.,  3.,  1.,  5.],\n",
       "       [ 4.,  2.,  4.,  1.],\n",
       "       [ 4.,  1.,  5.,  5.],\n",
       "       [ 3.,  2.,  4.,  1.],\n",
       "       [ 5.,  3.,  2.,  4.],\n",
       "       [ 2.,  3.,  1.,  3.],\n",
       "       [ 4.,  4.,  5.,  4.],\n",
       "       [ 1.,  2.,  4.,  3.],\n",
       "       [ 1.,  3.,  5.,  4.],\n",
       "       [ 5.,  2.,  4.,  2.],\n",
       "       [ 1.,  3.,  4.,  2.],\n",
       "       [ 1.,  1.,  3.,  2.],\n",
       "       [ 3.,  4.,  2.,  3.],\n",
       "       [ 2.,  5.,  4.,  5.],\n",
       "       [ 5.,  2.,  5.,  4.],\n",
       "       [ 2.,  3.,  5.,  5.],\n",
       "       [ 1.,  4.,  2.,  4.],\n",
       "       [ 4.,  3.,  4.,  5.],\n",
       "       [ 3.,  5.,  3.,  4.],\n",
       "       [ 1.,  4.,  1.,  5.],\n",
       "       [ 1.,  1.,  5.,  4.],\n",
       "       [ 4.,  1.,  4.,  1.],\n",
       "       [ 3.,  3.,  2.,  1.],\n",
       "       [ 2.,  2.,  4.,  1.],\n",
       "       [ 5.,  5.,  4.,  2.],\n",
       "       [ 3.,  4.,  3.,  2.],\n",
       "       [ 2.,  4.,  3.,  4.],\n",
       "       [ 2.,  1.,  3.,  3.],\n",
       "       [ 5.,  3.,  3.,  4.],\n",
       "       [ 5.,  2.,  5.,  1.],\n",
       "       [ 2.,  3.,  1.,  2.],\n",
       "       [ 1.,  1.,  2.,  5.],\n",
       "       [ 4.,  2.,  2.,  3.],\n",
       "       [ 2.,  5.,  3.,  4.],\n",
       "       [ 4.,  2.,  2.,  4.],\n",
       "       [ 5.,  5.,  3.,  1.],\n",
       "       [ 3.,  1.,  4.,  4.],\n",
       "       [ 1.,  4.,  2.,  5.],\n",
       "       [ 3.,  2.,  4.,  2.],\n",
       "       [ 3.,  3.,  3.,  3.],\n",
       "       [ 3.,  3.,  5.,  1.],\n",
       "       [ 4.,  2.,  1.,  4.],\n",
       "       [ 5.,  5.,  2.,  2.],\n",
       "       [ 2.,  5.,  5.,  3.],\n",
       "       [ 5.,  1.,  2.,  2.],\n",
       "       [ 3.,  2.,  5.,  5.],\n",
       "       [ 2.,  2.,  1.,  4.],\n",
       "       [ 1.,  4.,  1.,  1.],\n",
       "       [ 1.,  4.,  4.,  3.],\n",
       "       [ 3.,  3.,  5.,  2.],\n",
       "       [ 1.,  3.,  4.,  4.],\n",
       "       [ 1.,  1.,  4.,  1.],\n",
       "       [ 4.,  1.,  2.,  1.]])"
      ]
     },
     "execution_count": 9,
     "metadata": {},
     "output_type": "execute_result"
    }
   ],
   "source": [
    "print(len(x_teste))\n",
    "x_teste"
   ]
  },
  {
   "cell_type": "code",
   "execution_count": 10,
   "metadata": {},
   "outputs": [
    {
     "data": {
      "text/plain": [
       "3.0"
      ]
     },
     "execution_count": 10,
     "metadata": {},
     "output_type": "execute_result"
    }
   ],
   "source": [
    "y_teste[0]"
   ]
  },
  {
   "cell_type": "code",
   "execution_count": 11,
   "metadata": {},
   "outputs": [
    {
     "name": "stdout",
     "output_type": "stream",
     "text": [
      "188\n"
     ]
    },
    {
     "data": {
      "text/plain": [
       "array([ 1.,  1.,  1.,  1.,  1.,  1.,  3.,  1.,  1.,  3.,  3.,  3.,  1.,\n",
       "        3.,  1.,  1.,  3.,  3.,  3.,  1.,  3.,  3.,  3.,  1.,  1.,  1.,\n",
       "        3.,  1.,  1.,  1.,  1.,  3.,  3.,  1.,  3.,  1.,  1.,  1.,  1.,\n",
       "        1.,  1.,  3.,  1.,  1.,  3.,  1.,  1.,  3.,  1.,  3.,  1.,  1.,\n",
       "        3.,  3.,  1.,  1.,  3.,  1.,  1.,  1.,  1.,  1.,  3.,  3.,  1.,\n",
       "        1.,  3.,  3.,  1.,  1.,  3.,  3.,  3.,  3.,  3.,  1.,  1.,  3.,\n",
       "        1.,  3.,  3.,  3.,  3.,  1.,  3.,  1.,  1.,  1.,  3.,  1.,  1.,\n",
       "        1.,  3.,  1.,  1.,  3.,  3.,  3.,  3.,  3.,  1.,  3.,  3.,  3.,\n",
       "        1.,  1.,  1.,  3.,  3.,  1.,  3.,  1.,  3.,  3.,  1.,  3.,  1.,\n",
       "        1.,  1.,  1.,  3.,  3.,  1.,  3.,  3.,  3.,  3.,  3.,  1.,  3.,\n",
       "        1.,  1.,  1.,  3.,  1.,  1.,  1.,  3.,  1.,  1.,  1.,  1.,  3.,\n",
       "        3.,  1.,  3.,  3.,  1.,  3.,  3.,  3.,  3.,  3.,  1.,  1.,  3.,\n",
       "        1.,  1.,  3.,  1.,  1.,  3.,  3.,  1.,  1.,  1.,  3.,  1.,  3.,\n",
       "        3.,  1.,  3.,  3.,  3.,  1.,  1.,  1.,  1.,  3.,  1.,  3.,  3.,\n",
       "        1.,  3.,  3.,  3.,  3.,  1.])"
      ]
     },
     "execution_count": 11,
     "metadata": {},
     "output_type": "execute_result"
    }
   ],
   "source": [
    "from sklearn.neighbors import KNeighborsClassifier\n",
    "knn = KNeighborsClassifier(n_neighbors=17)\n",
    "knn.fit(x_treino, y_treino)\n",
    "labels = knn.predict(x_teste)\n",
    "print(len(labels))\n",
    "labels"
   ]
  },
  {
   "cell_type": "code",
   "execution_count": 12,
   "metadata": {},
   "outputs": [
    {
     "data": {
      "text/plain": [
       "163"
      ]
     },
     "execution_count": 12,
     "metadata": {},
     "output_type": "execute_result"
    }
   ],
   "source": [
    "np.sum(labels == y_teste)"
   ]
  },
  {
   "cell_type": "code",
   "execution_count": 13,
   "metadata": {},
   "outputs": [
    {
     "data": {
      "text/plain": [
       "163"
      ]
     },
     "execution_count": 13,
     "metadata": {},
     "output_type": "execute_result"
    }
   ],
   "source": [
    "(labels == y_teste).sum()"
   ]
  },
  {
   "cell_type": "code",
   "execution_count": 15,
   "metadata": {},
   "outputs": [
    {
     "data": {
      "text/plain": [
       "86.702127659574472"
      ]
     },
     "execution_count": 15,
     "metadata": {},
     "output_type": "execute_result"
    }
   ],
   "source": [
    "100 * (labels == y_teste).sum() / len(x_teste)"
   ]
  },
  {
   "cell_type": "code",
   "execution_count": 16,
   "metadata": {},
   "outputs": [
    {
     "data": {
      "text/plain": [
       "0.86702127659574468"
      ]
     },
     "execution_count": 16,
     "metadata": {},
     "output_type": "execute_result"
    }
   ],
   "source": [
    "knn.score(x_teste, y_teste)"
   ]
  },
  {
   "cell_type": "code",
   "execution_count": 17,
   "metadata": {},
   "outputs": [
    {
     "data": {
      "text/plain": [
       "0.86702127659574468"
      ]
     },
     "execution_count": 17,
     "metadata": {},
     "output_type": "execute_result"
    }
   ],
   "source": [
    "np.mean(labels == y_teste)"
   ]
  },
  {
   "cell_type": "code",
   "execution_count": null,
   "metadata": {
    "collapsed": true
   },
   "outputs": [],
   "source": []
  }
 ],
 "metadata": {
  "kernelspec": {
   "display_name": "Python 3",
   "language": "python",
   "name": "python3"
  },
  "language_info": {
   "codemirror_mode": {
    "name": "ipython",
    "version": 3
   },
   "file_extension": ".py",
   "mimetype": "text/x-python",
   "name": "python",
   "nbconvert_exporter": "python",
   "pygments_lexer": "ipython3",
   "version": "3.6.2"
  }
 },
 "nbformat": 4,
 "nbformat_minor": 2
}
