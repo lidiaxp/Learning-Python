{
 "cells": [
  {
   "cell_type": "code",
   "execution_count": 3,
   "metadata": {
    "collapsed": true
   },
   "outputs": [],
   "source": [
    "import numpy as np\n",
    "import math\n",
    "\n",
    "def dis_euc(v1, v2):\n",
    "    dim, soma = len(v1), 0\n",
    "    for i in range(dim):\n",
    "        soma += math.pow(v1[i] - v2[i], 2)\n",
    "    return math.sqrt(soma)"
   ]
  },
  {
   "cell_type": "code",
   "execution_count": 10,
   "metadata": {},
   "outputs": [
    {
     "name": "stdout",
     "output_type": "stream",
     "text": [
      "6.45\n"
     ]
    }
   ],
   "source": [
    "v1 = [1.2, 2, 3.8, 4.5]\n",
    "v2 = [0.5, 4.5, 9.6, 3.4]\n",
    "\n",
    "dis_euc(v1, v2)\n",
    "print('%.2f' % dis_euc(v1, v2))"
   ]
  },
  {
   "cell_type": "code",
   "execution_count": 7,
   "metadata": {
    "collapsed": true
   },
   "outputs": [],
   "source": [
    "def dis_euc_np(v1, v2):\n",
    "    v1, v2 = np.array(v1), np.array(v2)\n",
    "    diff = v1 - v2\n",
    "    quad_dist = np.dot(diff, diff)\n",
    "    return math.sqrt(quad_dist)"
   ]
  },
  {
   "cell_type": "code",
   "execution_count": 8,
   "metadata": {},
   "outputs": [
    {
     "name": "stdout",
     "output_type": "stream",
     "text": [
      "6.45\n"
     ]
    }
   ],
   "source": [
    "print('%.2f' % dis_euc_np(v1, v2))"
   ]
  },
  {
   "cell_type": "code",
   "execution_count": 18,
   "metadata": {
    "collapsed": true
   },
   "outputs": [],
   "source": [
    "def dis_man(v1, v2):\n",
    "    dim, soma = len(v1), 0\n",
    "    for i in range(dim):\n",
    "        soma += math.fabs(v1[i] - v2[i])\n",
    "    return soma\n",
    "\n",
    "def dis_man_np(v1, v2):\n",
    "    v1, v2 = np.array(v1), np.array(v2)\n",
    "    diff = v1 - v2\n",
    "    dist = np.absolute(diff)\n",
    "    return sum(dist)"
   ]
  },
  {
   "cell_type": "code",
   "execution_count": 19,
   "metadata": {},
   "outputs": [
    {
     "name": "stdout",
     "output_type": "stream",
     "text": [
      "10.1\n",
      "10.1\n"
     ]
    }
   ],
   "source": [
    "print(dis_man(v1, v2))\n",
    "print(dis_man_np(v1, v2))"
   ]
  },
  {
   "cell_type": "code",
   "execution_count": null,
   "metadata": {
    "collapsed": true
   },
   "outputs": [],
   "source": []
  }
 ],
 "metadata": {
  "kernelspec": {
   "display_name": "Python 3",
   "language": "python",
   "name": "python3"
  },
  "language_info": {
   "codemirror_mode": {
    "name": "ipython",
    "version": 3
   },
   "file_extension": ".py",
   "mimetype": "text/x-python",
   "name": "python",
   "nbconvert_exporter": "python",
   "pygments_lexer": "ipython3",
   "version": "3.6.2"
  }
 },
 "nbformat": 4,
 "nbformat_minor": 2
}
