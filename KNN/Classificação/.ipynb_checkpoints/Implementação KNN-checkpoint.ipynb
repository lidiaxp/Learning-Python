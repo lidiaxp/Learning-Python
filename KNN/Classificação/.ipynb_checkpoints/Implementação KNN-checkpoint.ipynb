{
 "cells": [
  {
   "cell_type": "code",
   "execution_count": 53,
   "metadata": {
    "collapsed": true
   },
   "outputs": [],
   "source": [
    "'''\n",
    "Implementação do KNN\n",
    "dataset: https://archive.ics.uci.edu/ml/datasets/Haberman%27s+Survival\n",
    "Descrição do dataset: sobrevivência de pacientes submetidos a cirurgia de câncer de mama\n",
    "'''\n",
    "\n",
    "#Lista de amostras\n",
    "amostras = []"
   ]
  },
  {
   "cell_type": "code",
   "execution_count": 54,
   "metadata": {
    "collapsed": true
   },
   "outputs": [],
   "source": [
    "with open('dataset.data', 'r') as f:\n",
    "    for linha in f.readlines():\n",
    "        atrib = linha.replace('\\n', '').split(',')\n",
    "        amostras.append([int(atrib[0]), int(atrib[1]), int(atrib[2]), int(atrib[3])])"
   ]
  },
  {
   "cell_type": "code",
   "execution_count": 55,
   "metadata": {
    "scrolled": true
   },
   "outputs": [
    {
     "data": {
      "text/plain": [
       "306"
      ]
     },
     "execution_count": 55,
     "metadata": {},
     "output_type": "execute_result"
    }
   ],
   "source": [
    "len(amostras)"
   ]
  },
  {
   "cell_type": "code",
   "execution_count": 56,
   "metadata": {
    "collapsed": true
   },
   "outputs": [],
   "source": [
    "def info_dataset(amostras, verbose=True):\n",
    "    if verbose:\n",
    "        print('Total de amostras: %d' % len(amostras))\n",
    "    rotulo1, rotulo2 = 0, 0\n",
    "    for amostra in amostras:\n",
    "        if amostra[-1] == 1:\n",
    "            rotulo1 += 1\n",
    "        else:\n",
    "            rotulo2 += 1\n",
    "    if verbose:\n",
    "        print('Total rótulo 1: %d' % rotulo1)\n",
    "        print('Total rótulo 2: %d' % rotulo2)\n",
    "    return[len(amostras), rotulo1, rotulo2]"
   ]
  },
  {
   "cell_type": "code",
   "execution_count": 57,
   "metadata": {},
   "outputs": [
    {
     "name": "stdout",
     "output_type": "stream",
     "text": [
      "Total de amostras: 306\n",
      "Total rótulo 1: 225\n",
      "Total rótulo 2: 81\n"
     ]
    },
    {
     "data": {
      "text/plain": [
       "[306, 225, 81]"
      ]
     },
     "execution_count": 57,
     "metadata": {},
     "output_type": "execute_result"
    }
   ],
   "source": [
    "info_dataset(amostras)"
   ]
  },
  {
   "cell_type": "code",
   "execution_count": 58,
   "metadata": {
    "collapsed": true
   },
   "outputs": [],
   "source": [
    "p = 0.6\n",
    "_, rotulo1,rotulo2 = info_dataset(amostras, False)"
   ]
  },
  {
   "cell_type": "code",
   "execution_count": 59,
   "metadata": {
    "collapsed": true
   },
   "outputs": [],
   "source": [
    "treinamento, teste = [], []\n",
    "max_rotulo1, max_rotulo2 = int(p * rotulo1), int(p * rotulo2)\n",
    "total_rotulo1, total_rotulo2 = 0, 0\n",
    "for amostra in amostras:\n",
    "    if(total_rotulo1 + total_rotulo2) < (max_rotulo1 + max_rotulo2):\n",
    "        treinamento.append(amostra)\n",
    "        if amostra[-1] == 1 and total_rotulo1 < max_rotulo1:\n",
    "            total_rotulo1 += 1\n",
    "        else: \n",
    "            total_rotulo2 += 1\n",
    "    else: \n",
    "        teste.append(amostra)"
   ]
  },
  {
   "cell_type": "code",
   "execution_count": 60,
   "metadata": {},
   "outputs": [
    {
     "name": "stdout",
     "output_type": "stream",
     "text": [
      "Total de amostras: 183\n",
      "Total rótulo 1: 132\n",
      "Total rótulo 2: 51\n"
     ]
    },
    {
     "data": {
      "text/plain": [
       "[183, 132, 51]"
      ]
     },
     "execution_count": 60,
     "metadata": {},
     "output_type": "execute_result"
    }
   ],
   "source": [
    "info_dataset(treinamento)"
   ]
  },
  {
   "cell_type": "code",
   "execution_count": 61,
   "metadata": {},
   "outputs": [
    {
     "name": "stdout",
     "output_type": "stream",
     "text": [
      "Total de amostras: 123\n",
      "Total rótulo 1: 93\n",
      "Total rótulo 2: 30\n"
     ]
    },
    {
     "data": {
      "text/plain": [
       "[123, 93, 30]"
      ]
     },
     "execution_count": 61,
     "metadata": {},
     "output_type": "execute_result"
    }
   ],
   "source": [
    "info_dataset(teste)"
   ]
  },
  {
   "cell_type": "code",
   "execution_count": 62,
   "metadata": {},
   "outputs": [
    {
     "name": "stdout",
     "output_type": "stream",
     "text": [
      "Total de amostras: 306\n",
      "Total rótulo 1: 225\n",
      "Total rótulo 2: 81\n"
     ]
    },
    {
     "data": {
      "text/plain": [
       "[306, 225, 81]"
      ]
     },
     "execution_count": 62,
     "metadata": {},
     "output_type": "execute_result"
    }
   ],
   "source": [
    "info_dataset(amostras)"
   ]
  },
  {
   "cell_type": "code",
   "execution_count": 63,
   "metadata": {
    "collapsed": true
   },
   "outputs": [],
   "source": [
    "import math\n",
    "\n",
    "def dis_euc(v1, v2):\n",
    "    dim, soma = len(v1), 0\n",
    "    for i in range(dim - 1):\n",
    "        soma += math.pow(v1[i] - v2[i], 2)\n",
    "    return math.sqrt(soma)"
   ]
  },
  {
   "cell_type": "code",
   "execution_count": 64,
   "metadata": {},
   "outputs": [
    {
     "data": {
      "text/plain": [
       "1.4142135623730951"
      ]
     },
     "execution_count": 64,
     "metadata": {},
     "output_type": "execute_result"
    }
   ],
   "source": [
    "v1 = [1, 2, 3]\n",
    "v2 = [2, 1, 3]\n",
    "dis_euc(v1, v2)"
   ]
  },
  {
   "cell_type": "code",
   "execution_count": 65,
   "metadata": {
    "collapsed": true
   },
   "outputs": [],
   "source": [
    "def knn(treinamento, nova_amostra, k):\n",
    "    dists, tam_treino = {}, len(treinamento)\n",
    "    #Calcula a distância euclidiana da nova amostra para\n",
    "    #todos os outros exemplos do conjunto de treinamento\n",
    "    for i in range(tam_treino):\n",
    "        d = dis_euc(treinamento[i], nova_amostra)\n",
    "        dists[i] = d\n",
    "        \n",
    "    #obtém as chaves (índices) dos k-vizinhos mais próximos\n",
    "    k_vizinhos = sorted(dists, key=dists.get)[:k]\n",
    "    \n",
    "    #votação majoritária\n",
    "    qtd_rotulo1, qtd_rotulo2 = 0, 0\n",
    "    for indice in k_vizinhos:\n",
    "        if treinamento[indice][-1] == 1:\n",
    "            qtd_rotulo1 += 1\n",
    "        else:\n",
    "            qtd_rotulo2 += 2\n",
    "            \n",
    "    if qtd_rotulo1 > qtd_rotulo2:\n",
    "        return 1\n",
    "    else: \n",
    "        return 2"
   ]
  },
  {
   "cell_type": "code",
   "execution_count": 66,
   "metadata": {},
   "outputs": [
    {
     "data": {
      "text/plain": [
       "[4]"
      ]
     },
     "execution_count": 66,
     "metadata": {},
     "output_type": "execute_result"
    }
   ],
   "source": [
    "exemplo = {1:2.34, 2:3.45, 3:0.25, 4:9.8}\n",
    "sorted(exemplo, key=exemplo.get, reverse=True)[:1]"
   ]
  },
  {
   "cell_type": "code",
   "execution_count": 67,
   "metadata": {},
   "outputs": [
    {
     "name": "stdout",
     "output_type": "stream",
     "text": [
      "[55, 58, 0, 1]\n",
      "1\n"
     ]
    }
   ],
   "source": [
    "print(teste[0])\n",
    "print(knn(treinamento, teste[0], k=13))"
   ]
  },
  {
   "cell_type": "code",
   "execution_count": 68,
   "metadata": {},
   "outputs": [
    {
     "name": "stdout",
     "output_type": "stream",
     "text": [
      "Total de treinamento: 183\n",
      "Total de testes: 123\n",
      "Total de acertos: 84\n",
      "Porcentagem de acertos: 68.29%\n"
     ]
    }
   ],
   "source": [
    "acertos, k = 0, int(math.sqrt(len(treinamento)))\n",
    "for amostra in teste:\n",
    "    classe = knn(treinamento, amostra, k)\n",
    "    if amostra[-1] == classe:\n",
    "        acertos += 1\n",
    "        \n",
    "print('Total de treinamento: %d' % len(treinamento))\n",
    "print('Total de testes: %d' % len(teste))\n",
    "print('Total de acertos: %d' % acertos)\n",
    "print('Porcentagem de acertos: %.2f%%' % (100*acertos/len(teste)))"
   ]
  },
  {
   "cell_type": "code",
   "execution_count": 76,
   "metadata": {},
   "outputs": [
    {
     "name": "stdout",
     "output_type": "stream",
     "text": [
      "Total de treinamento: 183\n",
      "Total de testes: 123\n",
      "Melhor K: 182\n",
      "Melhor porcentagem de acertos: 75.61%\n"
     ]
    }
   ],
   "source": [
    "acertos = 0\n",
    "k = [0, 0]\n",
    "\n",
    "for i in range(len(treinamento)):\n",
    "    for amostra in teste:\n",
    "        classe = knn(treinamento, amostra, i)\n",
    "        if amostra[-1] == classe:\n",
    "            acertos += 1\n",
    "    if k[-1] < acertos:\n",
    "        k[0] = i\n",
    "        k[1] = acertos\n",
    "\n",
    "print('Total de treinamento: %d' % len(treinamento))\n",
    "print('Total de testes: %d' % len(teste))\n",
    "\n",
    "acertos = 0\n",
    "for amostra in teste:\n",
    "    classe = knn(treinamento, amostra, k[0])\n",
    "    if amostra[-1] == classe:\n",
    "        acertos += 1\n",
    "        \n",
    "print('Melhor K: %d' % k[0])\n",
    "print('Melhor porcentagem de acertos: %.2f%%' % (100*acertos/len(teste)))"
   ]
  },
  {
   "cell_type": "code",
   "execution_count": null,
   "metadata": {
    "collapsed": true
   },
   "outputs": [],
   "source": []
  }
 ],
 "metadata": {
  "kernelspec": {
   "display_name": "Python 3",
   "language": "python",
   "name": "python3"
  },
  "language_info": {
   "codemirror_mode": {
    "name": "ipython",
    "version": 3
   },
   "file_extension": ".py",
   "mimetype": "text/x-python",
   "name": "python",
   "nbconvert_exporter": "python",
   "pygments_lexer": "ipython3",
   "version": "3.6.2"
  }
 },
 "nbformat": 4,
 "nbformat_minor": 2
}
