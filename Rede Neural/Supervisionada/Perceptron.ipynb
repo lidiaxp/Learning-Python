{
 "cells": [
  {
   "cell_type": "code",
   "execution_count": 32,
   "metadata": {
    "collapsed": true
   },
   "outputs": [],
   "source": [
    "import random\n",
    "\n",
    "class Perceptron:\n",
    "    def __init__(self, amostras, saidas, taxa_aprendizado=0.1, epocas=1000, limiar=-1):\n",
    "        self.amostras = amostras\n",
    "        self.saidas = saidas\n",
    "        self.taxa_aprendizado = taxa_aprendizado\n",
    "        self.epocas = epocas\n",
    "        self.limiar = limiar\n",
    "        self.n_amostras = len(amostras)\n",
    "        self.n_atributos = len(amostras[0])\n",
    "        self.pesos = []\n",
    "        \n",
    "    def treinar(self):\n",
    "        for amostra in self.amostras:\n",
    "            amostra.insert(0, -1)\n",
    "        for i in range(self.n_atributos):\n",
    "            self.pesos.append(random.random())\n",
    "        self.pesos.insert(0, self.limiar)\n",
    "        n_epocas = 0\n",
    "        \n",
    "        while True:\n",
    "            erro = False\n",
    "            for i in range(self.n_amostras):\n",
    "                u = 0\n",
    "                for j in range(self.n_atributos + 1):\n",
    "                    u += self.pesos[j] * self.amostras[i][j]\n",
    "                y = self.sinal(u)\n",
    "                \n",
    "                #verifica se a saida da rede é diferente da desejada\n",
    "                if y != self.saidas[i]:\n",
    "                    #calcula o erro\n",
    "                    erro_aux = self.saidas[i] - y\n",
    "                    #faz o ajuste dos pesos para cada elemento da amostra\n",
    "                    for j in range(self.n_atributos + 1):\n",
    "                        self.pesos[j] = self.pesos[j] + self.taxa_aprendizado * erro_aux * self.amostras[i][j]\n",
    "                    erro = True #ainda tem erro\n",
    "            \n",
    "            n_epocas += 1\n",
    "                \n",
    "            if not erro or n_epocas > self.epocas:\n",
    "                break\n",
    "                \n",
    "    def degrau(self, u):\n",
    "        if u >= 0:\n",
    "            return 1\n",
    "        return 0\n",
    "    \n",
    "    def sinal(self, u):\n",
    "        if u >= 0:\n",
    "            return 1\n",
    "        return -1\n",
    "    \n",
    "    def teste(self, amostra):\n",
    "        amostra.insert(0, -1)\n",
    "        u = 0\n",
    "        for i in range(self.n_atributos + 1):\n",
    "            u += self.pesos[i] * amostra[i]\n",
    "        y = self.sinal(u)\n",
    "        print('Classe %d' % y)"
   ]
  },
  {
   "cell_type": "code",
   "execution_count": 33,
   "metadata": {},
   "outputs": [
    {
     "name": "stdout",
     "output_type": "stream",
     "text": [
      "Classe 1\n"
     ]
    }
   ],
   "source": [
    "amostras = [[0, 0], [0, 1], [1, 0], [1, 1]]\n",
    "saidas = [0, 1, 1, 1]\n",
    "rede = Perceptron(amostras, saidas)\n",
    "rede.treinar()\n",
    "rede.teste([0, 1])"
   ]
  },
  {
   "cell_type": "code",
   "execution_count": 50,
   "metadata": {},
   "outputs": [
    {
     "name": "stdout",
     "output_type": "stream",
     "text": [
      "Classe -1\n"
     ]
    }
   ],
   "source": [
    "amostras = [[0.1, 0.4, 0.7], [0.3, 0.7, 0.2], [0.6, 0.9, 0.8], [0.5,0.7 ,0.1]]\n",
    "saidas = [1, -1, -1, 1]\n",
    "rede = Perceptron(amostras, saidas)\n",
    "rede.treinar()\n",
    "rede.teste([0.5, 0.8, 0.3])"
   ]
  },
  {
   "cell_type": "code",
   "execution_count": 59,
   "metadata": {},
   "outputs": [
    {
     "name": "stdout",
     "output_type": "stream",
     "text": [
      "Classe -1\n"
     ]
    }
   ],
   "source": [
    "# blue ou red?\n",
    "amostras = [[0.72, 0.82], [0.91, -0.69],\n",
    "                [0.46, 0.80],   [0.03, 0.93],\n",
    "                [0.12, 0.25],   [0.96, 0.47],\n",
    "                [0.8, -0.75],   [0.46, 0.98],\n",
    "                [0.66, 0.24],   [0.72, -0.15],\n",
    "                [0.35, 0.01],   [-0.16, 0.84],\n",
    "                [-0.04, 0.68],  [-0.11, 0.1],\n",
    "                [0.31, -0.96],   [0.0, -0.26],\n",
    "                [-0.43, -0.65],  [0.57, -0.97],\n",
    "                [-0.47, -0.03],  [-0.72, -0.64],\n",
    "                [-0.57, 0.15],   [-0.25, -0.43],\n",
    "                [0.47, -0.88],   [-0.12, -0.9],\n",
    "                [-0.58, 0.62],   [-0.48, 0.05],\n",
    "                [-0.79, -0.92],  [-0.42, -0.09],\n",
    "                [-0.76, 0.65],   [-0.77, -0.76]]\n",
    "\n",
    "saidas = [-1,-1,-1,-1,-1,-1, -1,-1,\n",
    "            -1,-1,-1,-1,-1,1,1,1,1,\n",
    "            1,1,1,1,1,1,1,1,1,1,1,1,1]\n",
    "rede = Perceptron(amostras, saidas)\n",
    "rede.treinar()\n",
    "rede.teste([0.27, -0.22])"
   ]
  },
  {
   "cell_type": "code",
   "execution_count": null,
   "metadata": {
    "collapsed": true
   },
   "outputs": [],
   "source": []
  }
 ],
 "metadata": {
  "kernelspec": {
   "display_name": "Python 3",
   "language": "python",
   "name": "python3"
  },
  "language_info": {
   "codemirror_mode": {
    "name": "ipython",
    "version": 3
   },
   "file_extension": ".py",
   "mimetype": "text/x-python",
   "name": "python",
   "nbconvert_exporter": "python",
   "pygments_lexer": "ipython3",
   "version": "3.6.2"
  }
 },
 "nbformat": 4,
 "nbformat_minor": 2
}
