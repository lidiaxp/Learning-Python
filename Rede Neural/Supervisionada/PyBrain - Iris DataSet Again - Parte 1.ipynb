{
 "cells": [
  {
   "cell_type": "code",
   "execution_count": 2,
   "metadata": {
    "collapsed": true
   },
   "outputs": [],
   "source": [
    "# Carregando os dados do Iris Dataset com sklearn\n",
    "from sklearn import datasets\n",
    "iris = datasets.load_iris()\n",
    "# Obtenha as entradas e saidas\n",
    "x, y = iris.data, iris.target"
   ]
  },
  {
   "cell_type": "code",
   "execution_count": 3,
   "metadata": {
    "collapsed": true
   },
   "outputs": [],
   "source": [
    "from pybrain.datasets.classification import ClassificationDataSet\n",
    "\n",
    "dataset = ClassificationDataSet(4, 1, nb_classes=3)\n",
    "\n",
    "# Adicionar amostras\n",
    "for i in range(len(x)):\n",
    "    dataset.addSample(x[i], y[i])"
   ]
  },
  {
   "cell_type": "code",
   "execution_count": 4,
   "metadata": {
    "collapsed": true
   },
   "outputs": [],
   "source": [
    "# Particionando os dados para treinamento\n",
    "train_data, part_data = dataset.splitWithProportion(0.6)\n",
    "\n",
    "# Dividindo os dados para teste e validação\n",
    "test_data, val_data = part_data.splitWithProportion(0.5)"
   ]
  },
  {
   "cell_type": "code",
   "execution_count": 5,
   "metadata": {},
   "outputs": [],
   "source": [
    "from pybrain.tools.shortcuts import buildNetwork\n",
    "from pybrain.supervised import BackpropTrainer\n",
    "\n",
    "net = buildNetwork(dataset.indim, 3, dataset.outdim)\n",
    "trainer = BackpropTrainer(net, dataset=train_data, learningrate=0.01, momentum=0.9, verbose=False)\n",
    "\n",
    "train_errors, val_errors = trainer.trainUntilConvergence(dataset=train_data, maxEpochs=200)"
   ]
  },
  {
   "cell_type": "code",
   "execution_count": 6,
   "metadata": {},
   "outputs": [
    {
     "data": {
      "image/png": "[encoded data removed]",
      "text/plain": [
       "<matplotlib.figure.Figure at 0x1d6a5b980f0>"
      ]
     },
     "metadata": {},
     "output_type": "display_data"
    }
   ],
   "source": [
    "import matplotlib.pyplot as plt\n",
    "\n",
    "plt.plot(train_errors, 'b', val_errors, 'r')\n",
    "plt.show()"
   ]
  },
  {
   "cell_type": "code",
   "execution_count": 7,
   "metadata": {},
   "outputs": [],
   "source": [
    "trainer.trainOnDataset(train_data, 500)"
   ]
  },
  {
   "cell_type": "code",
   "execution_count": 8,
   "metadata": {},
   "outputs": [
    {
     "name": "stdout",
     "output_type": "stream",
     "text": [
      "out 0.969290, correct: 1.000000\n",
      "out -0.011784, correct: 0.000000\n",
      "out 0.970227, correct: 1.000000\n",
      "out 0.002168, correct: 0.000000\n",
      "out -0.023206, correct: 0.000000\n",
      "out 0.970789, correct: 1.000000\n",
      "out 0.957844, correct: 1.000000\n",
      "out -0.003220, correct: 0.000000\n",
      "out 0.984128, correct: 1.000000\n",
      "out 2.054780, correct: 2.000000\n",
      "out 1.700555, correct: 2.000000\n",
      "out 0.987181, correct: 1.000000\n",
      "out 1.693725, correct: 2.000000\n",
      "out -0.027890, correct: 0.000000\n",
      "out -0.017221, correct: 0.000000\n",
      "out 2.007909, correct: 2.000000\n",
      "out -0.029942, correct: 0.000000\n",
      "out 0.956883, correct: 1.000000\n",
      "out 2.051581, correct: 2.000000\n",
      "out 2.047465, correct: 2.000000\n",
      "out 2.037611, correct: 2.000000\n",
      "out -0.005460, correct: 0.000000\n",
      "out 1.005072, correct: 1.000000\n",
      "out 2.037611, correct: 2.000000\n",
      "out 0.968333, correct: 1.000000\n",
      "out -0.010061, correct: 0.000000\n",
      "out 0.033931, correct: 0.000000\n",
      "out 1.748674, correct: 2.000000\n",
      "out 0.007653, correct: 0.000000\n",
      "out 2.042827, correct: 2.000000\n"
     ]
    }
   ],
   "source": [
    "out = net.activateOnDataset(test_data)\n",
    "for i in range (len(out)):\n",
    "    print('out %f, correct: %f' % (out[i], test_data['target'][i]))"
   ]
  },
  {
   "cell_type": "code",
   "execution_count": null,
   "metadata": {
    "collapsed": true
   },
   "outputs": [],
   "source": []
  }
 ],
 "metadata": {
  "kernelspec": {
   "display_name": "Python 3",
   "language": "python",
   "name": "python3"
  },
  "language_info": {
   "codemirror_mode": {
    "name": "ipython",
    "version": 3
   },
   "file_extension": ".py",
   "mimetype": "text/x-python",
   "name": "python",
   "nbconvert_exporter": "python",
   "pygments_lexer": "ipython3",
   "version": "3.6.2"
  }
 },
 "nbformat": 4,
 "nbformat_minor": 2
}
