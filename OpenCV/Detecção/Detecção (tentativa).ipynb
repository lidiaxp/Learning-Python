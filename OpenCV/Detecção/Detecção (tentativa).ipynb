{
 "cells": [
  {
   "cell_type": "code",
   "execution_count": 3,
   "metadata": {
    "collapsed": true
   },
   "outputs": [],
   "source": [
    "import cv2\n",
    "import sys"
   ]
  },
  {
   "cell_type": "code",
   "execution_count": 17,
   "metadata": {
    "collapsed": true
   },
   "outputs": [],
   "source": [
    "imagePath = 'C:\\\\Users\\\\lidia\\\\OneDrive\\\\Faculdade\\\\Learning\\\\Python\\\\jupyter\\\\OpenCV\\\\abba.png'\n",
    "cascPath = \"haarcascade_frontalface_default.xml\""
   ]
  },
  {
   "cell_type": "code",
   "execution_count": 13,
   "metadata": {
    "collapsed": true
   },
   "outputs": [],
   "source": [
    "faceCascade = cv2.CascadeClassifier(cascPath)"
   ]
  },
  {
   "cell_type": "code",
   "execution_count": 18,
   "metadata": {
    "collapsed": true
   },
   "outputs": [],
   "source": [
    "image = cv2.imread(imagePath)\n",
    "gray = cv2.cvtColor(image, cv2.COLOR_BGR2GRAY)"
   ]
  },
  {
   "cell_type": "code",
   "execution_count": 21,
   "metadata": {
    "collapsed": true
   },
   "outputs": [],
   "source": [
    "faces = faceCascade.detectMultiScale(\n",
    "    gray,\n",
    "    scaleFactor=1.1,\n",
    "    minNeighbors=5,\n",
    "    minSize=(30, 30),\n",
    "    flags = cv2.CASCADE_SCALE_IMAGE\n",
    ")"
   ]
  },
  {
   "cell_type": "code",
   "execution_count": null,
   "metadata": {},
   "outputs": [
    {
     "name": "stdout",
     "output_type": "stream",
     "text": [
      "Found 4 faces!\n"
     ]
    }
   ],
   "source": [
    "print(\"Found {0} faces!\".format(len(faces)))\n",
    "\n",
    "# Draw a rectangle around the faces\n",
    "for (x, y, w, h) in faces:\n",
    "    cv2.rectangle(image, (x, y), (x+w, y+h), (0, 255, 0), 2)\n",
    "\n",
    "cv2.imshow(\"Faces found\", image)\n",
    "cv2.waitKey(0)"
   ]
  },
  {
   "cell_type": "code",
   "execution_count": null,
   "metadata": {
    "collapsed": true
   },
   "outputs": [],
   "source": [
    "import cv2\n",
    " \n",
    "arqCasc = 'haarcascade_frontalface_default.xml'\n",
    "faceCascade = cv2.CascadeClassifier(arqCasc)\n",
    " \n",
    "webcam = cv2.VideoCapture(0)  #instancia o uso da webcam\n",
    " \n",
    "while True:\n",
    "    s, imagem = webcam.read() #pega efeticamente a imagem da webcam\n",
    "    imagem = cv2.flip(imagem,180) #espelha a imagem\n",
    " \n",
    "    faces = faceCascade.detectMultiScale(\n",
    "        imagem,\n",
    "        minNeighbors=5,\n",
    "        minSize=(30, 30),\n",
    "    maxSize=(200,200)\n",
    "    )\n",
    " \n",
    "    # Desenha um retângulo nas faces detectadas\n",
    "    for (x, y, w, h) in faces:\n",
    "        cv2.rectangle(imagem, (x, y), (x+w, y+h), (0, 255, 0), 2)\n",
    " \n",
    "    cv2.imshow('Video', imagem) #mostra a imagem captura na janela\n",
    " \n",
    "    #o trecho seguinte é apenas para parar o código e fechar a janela\n",
    "    if cv2.waitKey(1) & 0xFF == ord('q'):\n",
    "        break\n",
    " \n",
    "webcam.release() #dispensa o uso da webcam\n",
    "cv2.destroyAllWindows() #fecha todas a janelas abertas"
   ]
  },
  {
   "cell_type": "code",
   "execution_count": null,
   "metadata": {
    "collapsed": true
   },
   "outputs": [],
   "source": []
  }
 ],
 "metadata": {
  "kernelspec": {
   "display_name": "Python 3",
   "language": "python",
   "name": "python3"
  },
  "language_info": {
   "codemirror_mode": {
    "name": "ipython",
    "version": 3
   },
   "file_extension": ".py",
   "mimetype": "text/x-python",
   "name": "python",
   "nbconvert_exporter": "python",
   "pygments_lexer": "ipython3",
   "version": "3.6.2"
  }
 },
 "nbformat": 4,
 "nbformat_minor": 2
}
